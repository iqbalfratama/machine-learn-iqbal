{
  "nbformat": 4,
  "nbformat_minor": 0,
  "metadata": {
    "colab": {
      "provenance": []
    },
    "kernelspec": {
      "name": "python3",
      "display_name": "Python 3"
    },
    "language_info": {
      "name": "python"
    }
  },
  "cells": [
    {
      "cell_type": "code",
      "execution_count": 21,
      "metadata": {
        "colab": {
          "base_uri": "https://localhost:8080/",
          "height": 0
        },
        "id": "2Vzjx7ja_P8b",
        "outputId": "f70fb0fe-9f08-4d72-bf4d-f50711ec313c"
      },
      "outputs": [
        {
          "output_type": "stream",
          "name": "stdout",
          "text": [
            "Drive already mounted at /content/drive; to attempt to forcibly remount, call drive.mount(\"/content/drive\", force_remount=True).\n"
          ]
        }
      ],
      "source": [
        "import pandas as pd\n",
        "from google.colab import drive \n",
        "drive.mount('/content/drive')"
      ]
    },
    {
      "cell_type": "code",
      "source": [
        "path = '/content/drive/MyDrive/CSV/nenennen - Sheet1.csv'\n",
        "df = pd.read_csv(path)\n",
        "df.describe()"
      ],
      "metadata": {
        "colab": {
          "base_uri": "https://localhost:8080/",
          "height": 300
        },
        "id": "nNU0b-YaE-nz",
        "outputId": "49b08aab-5fa4-4629-fdbe-d136b7769a1f"
      },
      "execution_count": 22,
      "outputs": [
        {
          "output_type": "execute_result",
          "data": {
            "text/plain": [
              "       Jumlah Balita Terdaftar  Jumlah Balita Aktif\n",
              "count                24.000000            24.000000\n",
              "mean                 33.916667            30.291667\n",
              "std                   7.912108             8.735132\n",
              "min                  17.000000            12.000000\n",
              "25%                  30.750000            25.750000\n",
              "50%                  34.000000            30.000000\n",
              "75%                  38.250000            33.250000\n",
              "max                  49.000000            50.000000"
            ],
            "text/html": [
              "\n",
              "  <div id=\"df-60c38d80-8b78-459c-9225-3e283acaf16f\">\n",
              "    <div class=\"colab-df-container\">\n",
              "      <div>\n",
              "<style scoped>\n",
              "    .dataframe tbody tr th:only-of-type {\n",
              "        vertical-align: middle;\n",
              "    }\n",
              "\n",
              "    .dataframe tbody tr th {\n",
              "        vertical-align: top;\n",
              "    }\n",
              "\n",
              "    .dataframe thead th {\n",
              "        text-align: right;\n",
              "    }\n",
              "</style>\n",
              "<table border=\"1\" class=\"dataframe\">\n",
              "  <thead>\n",
              "    <tr style=\"text-align: right;\">\n",
              "      <th></th>\n",
              "      <th>Jumlah Balita Terdaftar</th>\n",
              "      <th>Jumlah Balita Aktif</th>\n",
              "    </tr>\n",
              "  </thead>\n",
              "  <tbody>\n",
              "    <tr>\n",
              "      <th>count</th>\n",
              "      <td>24.000000</td>\n",
              "      <td>24.000000</td>\n",
              "    </tr>\n",
              "    <tr>\n",
              "      <th>mean</th>\n",
              "      <td>33.916667</td>\n",
              "      <td>30.291667</td>\n",
              "    </tr>\n",
              "    <tr>\n",
              "      <th>std</th>\n",
              "      <td>7.912108</td>\n",
              "      <td>8.735132</td>\n",
              "    </tr>\n",
              "    <tr>\n",
              "      <th>min</th>\n",
              "      <td>17.000000</td>\n",
              "      <td>12.000000</td>\n",
              "    </tr>\n",
              "    <tr>\n",
              "      <th>25%</th>\n",
              "      <td>30.750000</td>\n",
              "      <td>25.750000</td>\n",
              "    </tr>\n",
              "    <tr>\n",
              "      <th>50%</th>\n",
              "      <td>34.000000</td>\n",
              "      <td>30.000000</td>\n",
              "    </tr>\n",
              "    <tr>\n",
              "      <th>75%</th>\n",
              "      <td>38.250000</td>\n",
              "      <td>33.250000</td>\n",
              "    </tr>\n",
              "    <tr>\n",
              "      <th>max</th>\n",
              "      <td>49.000000</td>\n",
              "      <td>50.000000</td>\n",
              "    </tr>\n",
              "  </tbody>\n",
              "</table>\n",
              "</div>\n",
              "      <button class=\"colab-df-convert\" onclick=\"convertToInteractive('df-60c38d80-8b78-459c-9225-3e283acaf16f')\"\n",
              "              title=\"Convert this dataframe to an interactive table.\"\n",
              "              style=\"display:none;\">\n",
              "        \n",
              "  <svg xmlns=\"http://www.w3.org/2000/svg\" height=\"24px\"viewBox=\"0 0 24 24\"\n",
              "       width=\"24px\">\n",
              "    <path d=\"M0 0h24v24H0V0z\" fill=\"none\"/>\n",
              "    <path d=\"M18.56 5.44l.94 2.06.94-2.06 2.06-.94-2.06-.94-.94-2.06-.94 2.06-2.06.94zm-11 1L8.5 8.5l.94-2.06 2.06-.94-2.06-.94L8.5 2.5l-.94 2.06-2.06.94zm10 10l.94 2.06.94-2.06 2.06-.94-2.06-.94-.94-2.06-.94 2.06-2.06.94z\"/><path d=\"M17.41 7.96l-1.37-1.37c-.4-.4-.92-.59-1.43-.59-.52 0-1.04.2-1.43.59L10.3 9.45l-7.72 7.72c-.78.78-.78 2.05 0 2.83L4 21.41c.39.39.9.59 1.41.59.51 0 1.02-.2 1.41-.59l7.78-7.78 2.81-2.81c.8-.78.8-2.07 0-2.86zM5.41 20L4 18.59l7.72-7.72 1.47 1.35L5.41 20z\"/>\n",
              "  </svg>\n",
              "      </button>\n",
              "      \n",
              "  <style>\n",
              "    .colab-df-container {\n",
              "      display:flex;\n",
              "      flex-wrap:wrap;\n",
              "      gap: 12px;\n",
              "    }\n",
              "\n",
              "    .colab-df-convert {\n",
              "      background-color: #E8F0FE;\n",
              "      border: none;\n",
              "      border-radius: 50%;\n",
              "      cursor: pointer;\n",
              "      display: none;\n",
              "      fill: #1967D2;\n",
              "      height: 32px;\n",
              "      padding: 0 0 0 0;\n",
              "      width: 32px;\n",
              "    }\n",
              "\n",
              "    .colab-df-convert:hover {\n",
              "      background-color: #E2EBFA;\n",
              "      box-shadow: 0px 1px 2px rgba(60, 64, 67, 0.3), 0px 1px 3px 1px rgba(60, 64, 67, 0.15);\n",
              "      fill: #174EA6;\n",
              "    }\n",
              "\n",
              "    [theme=dark] .colab-df-convert {\n",
              "      background-color: #3B4455;\n",
              "      fill: #D2E3FC;\n",
              "    }\n",
              "\n",
              "    [theme=dark] .colab-df-convert:hover {\n",
              "      background-color: #434B5C;\n",
              "      box-shadow: 0px 1px 3px 1px rgba(0, 0, 0, 0.15);\n",
              "      filter: drop-shadow(0px 1px 2px rgba(0, 0, 0, 0.3));\n",
              "      fill: #FFFFFF;\n",
              "    }\n",
              "  </style>\n",
              "\n",
              "      <script>\n",
              "        const buttonEl =\n",
              "          document.querySelector('#df-60c38d80-8b78-459c-9225-3e283acaf16f button.colab-df-convert');\n",
              "        buttonEl.style.display =\n",
              "          google.colab.kernel.accessAllowed ? 'block' : 'none';\n",
              "\n",
              "        async function convertToInteractive(key) {\n",
              "          const element = document.querySelector('#df-60c38d80-8b78-459c-9225-3e283acaf16f');\n",
              "          const dataTable =\n",
              "            await google.colab.kernel.invokeFunction('convertToInteractive',\n",
              "                                                     [key], {});\n",
              "          if (!dataTable) return;\n",
              "\n",
              "          const docLinkHtml = 'Like what you see? Visit the ' +\n",
              "            '<a target=\"_blank\" href=https://colab.research.google.com/notebooks/data_table.ipynb>data table notebook</a>'\n",
              "            + ' to learn more about interactive tables.';\n",
              "          element.innerHTML = '';\n",
              "          dataTable['output_type'] = 'display_data';\n",
              "          await google.colab.output.renderOutput(dataTable, element);\n",
              "          const docLink = document.createElement('div');\n",
              "          docLink.innerHTML = docLinkHtml;\n",
              "          element.appendChild(docLink);\n",
              "        }\n",
              "      </script>\n",
              "    </div>\n",
              "  </div>\n",
              "  "
            ]
          },
          "metadata": {},
          "execution_count": 22
        }
      ]
    },
    {
      "cell_type": "code",
      "source": [
        "df"
      ],
      "metadata": {
        "colab": {
          "base_uri": "https://localhost:8080/",
          "height": 802
        },
        "id": "8Y9XYpRtFJM6",
        "outputId": "e03867d1-8445-4896-8584-44be7659ec50"
      },
      "execution_count": 23,
      "outputs": [
        {
          "output_type": "execute_result",
          "data": {
            "text/plain": [
              "    Kecamatan                Kelurahan         Nama Posyandu Strata Posyandu  \\\n",
              "0   Arcamanik         Cisaranten Endah                 Gagak         Mandiri   \n",
              "1   Arcamanik  Cisaranten Bina Harapan     Posyandu Kol Ungu         Mandiri   \n",
              "2   Arcamanik  Cisaranten Bina Harapan    Posyandu Kol Putih         Mandiri   \n",
              "3   Arcamanik  Cisaranten Bina Harapan  Posyandu Bayam Merah         Mandiri   \n",
              "4   Arcamanik  Cisaranten Bina Harapan  Posyandu Bayam Hijau         Mandiri   \n",
              "5   Arcamanik  Cisaranten Bina Harapan    Posyandu Kecipir 1         Mandiri   \n",
              "6   Arcamanik  Cisaranten Bina Harapan    Posyandu Kecipir 2         Mandiri   \n",
              "7   Arcamanik  Cisaranten Bina Harapan      Posyandu Paprika         Mandiri   \n",
              "8   Arcamanik               Sukamiskin             Belimbing         Purnama   \n",
              "9   Arcamanik               Sukamiskin                Pepaya         Purnama   \n",
              "10  Arcamanik               Sukamiskin                 Jeruk         Purnama   \n",
              "11  Arcamanik               Sukamiskin              Lengkeng         Purnama   \n",
              "12  Arcamanik               Sukamiskin                 Salak         Purnama   \n",
              "13  Arcamanik               Sukamiskin              Srawbery         Purnama   \n",
              "14  Arcamanik               Sukamiskin              Rambutan         Mandiri   \n",
              "15  Arcamanik               Sukamiskin                Sirsak         Purnama   \n",
              "16  Arcamanik               Sukamiskin              Semangka         Mandiri   \n",
              "17  Arcamanik               Sukamiskin               Manggis         Purnama   \n",
              "18  Arcamanik         Cisaranten Endah             Merpati 2         Mandiri   \n",
              "19  Arcamanik         Cisaranten Endah                   Beo         Mandiri   \n",
              "20  Arcamanik         Cisaranten Kulon              Alamanda         Purnama   \n",
              "21  Arcamanik         Cisaranten Kulon           Sedap Malam         Purnama   \n",
              "22  Arcamanik         Cisaranten Endah                Nuri 1         Mandiri   \n",
              "23  Arcamanik         Cisaranten Endah                Nuri 2         Mandiri   \n",
              "\n",
              "            Alamat Posyandu (RT dan RW)  Jumlah Balita Terdaftar  \\\n",
              "0   Jl. Parakan Mas 4 No 06 RT 04 RW 12                       24   \n",
              "1                                 RW 01                       33   \n",
              "2                                 RW 01                       33   \n",
              "3            Jl. Pawenang I RT 01 RW 05                       29   \n",
              "4           Jl. Pawenang II RT 03 RW 05                       30   \n",
              "5                                 RW 07                       31   \n",
              "6                                 RW 07                       32   \n",
              "7                                 RW 10                       42   \n",
              "8                  Jl. Saharjo RT 03/03                       34   \n",
              "9     Jl. Pacuan Kuda Raya No. 17 RW 06                       43   \n",
              "10         Jl. Arcamanik Endah RT 01/09                       17   \n",
              "11        Jl. Bulutangkis No 2 RT 06/10                       24   \n",
              "12           Jl. Golf Barat XX RT 04/12                       35   \n",
              "13       Jl. Atletik II No. 25 RT 03/13                       38   \n",
              "14                  Jl. Boling RT 03/14                       36   \n",
              "15           Jl. Banjarsari 14 RT 04/15                       38   \n",
              "16            Jl.Terusan Pesantren Raya                       34   \n",
              "17         Jl. Sarimas III No. 49 RW 17                       39   \n",
              "18        Bumi Parakan Asri RT 02 RW 03                       49   \n",
              "19             Jl. Cingised RT 02 RW 04                       38   \n",
              "20            Komp Antabaru RT 03 RW 10                       17   \n",
              "21             Jl. Cingised RT 03 RW 06                       33   \n",
              "22         Jl. Parakan Saat RT 02 RW 06                       40   \n",
              "23         Jl. Parakan Saat RT 05 RW 06                       45   \n",
              "\n",
              "    Jumlah Balita Aktif  \n",
              "0                    23  \n",
              "1                    33  \n",
              "2                    33  \n",
              "3                    29  \n",
              "4                    30  \n",
              "5                    26  \n",
              "6                    25  \n",
              "7                    42  \n",
              "8                    31  \n",
              "9                    36  \n",
              "10                   12  \n",
              "11                   24  \n",
              "12                   28  \n",
              "13                   20  \n",
              "14                   28  \n",
              "15                   26  \n",
              "16                   34  \n",
              "17                   30  \n",
              "18                   50  \n",
              "19                   30  \n",
              "20                   17  \n",
              "21                   33  \n",
              "22                   47  \n",
              "23                   40  "
            ],
            "text/html": [
              "\n",
              "  <div id=\"df-e32307c7-589d-4348-bbeb-26518c86d625\">\n",
              "    <div class=\"colab-df-container\">\n",
              "      <div>\n",
              "<style scoped>\n",
              "    .dataframe tbody tr th:only-of-type {\n",
              "        vertical-align: middle;\n",
              "    }\n",
              "\n",
              "    .dataframe tbody tr th {\n",
              "        vertical-align: top;\n",
              "    }\n",
              "\n",
              "    .dataframe thead th {\n",
              "        text-align: right;\n",
              "    }\n",
              "</style>\n",
              "<table border=\"1\" class=\"dataframe\">\n",
              "  <thead>\n",
              "    <tr style=\"text-align: right;\">\n",
              "      <th></th>\n",
              "      <th>Kecamatan</th>\n",
              "      <th>Kelurahan</th>\n",
              "      <th>Nama Posyandu</th>\n",
              "      <th>Strata Posyandu</th>\n",
              "      <th>Alamat Posyandu (RT dan RW)</th>\n",
              "      <th>Jumlah Balita Terdaftar</th>\n",
              "      <th>Jumlah Balita Aktif</th>\n",
              "    </tr>\n",
              "  </thead>\n",
              "  <tbody>\n",
              "    <tr>\n",
              "      <th>0</th>\n",
              "      <td>Arcamanik</td>\n",
              "      <td>Cisaranten Endah</td>\n",
              "      <td>Gagak</td>\n",
              "      <td>Mandiri</td>\n",
              "      <td>Jl. Parakan Mas 4 No 06 RT 04 RW 12</td>\n",
              "      <td>24</td>\n",
              "      <td>23</td>\n",
              "    </tr>\n",
              "    <tr>\n",
              "      <th>1</th>\n",
              "      <td>Arcamanik</td>\n",
              "      <td>Cisaranten Bina Harapan</td>\n",
              "      <td>Posyandu Kol Ungu</td>\n",
              "      <td>Mandiri</td>\n",
              "      <td>RW 01</td>\n",
              "      <td>33</td>\n",
              "      <td>33</td>\n",
              "    </tr>\n",
              "    <tr>\n",
              "      <th>2</th>\n",
              "      <td>Arcamanik</td>\n",
              "      <td>Cisaranten Bina Harapan</td>\n",
              "      <td>Posyandu Kol Putih</td>\n",
              "      <td>Mandiri</td>\n",
              "      <td>RW 01</td>\n",
              "      <td>33</td>\n",
              "      <td>33</td>\n",
              "    </tr>\n",
              "    <tr>\n",
              "      <th>3</th>\n",
              "      <td>Arcamanik</td>\n",
              "      <td>Cisaranten Bina Harapan</td>\n",
              "      <td>Posyandu Bayam Merah</td>\n",
              "      <td>Mandiri</td>\n",
              "      <td>Jl. Pawenang I RT 01 RW 05</td>\n",
              "      <td>29</td>\n",
              "      <td>29</td>\n",
              "    </tr>\n",
              "    <tr>\n",
              "      <th>4</th>\n",
              "      <td>Arcamanik</td>\n",
              "      <td>Cisaranten Bina Harapan</td>\n",
              "      <td>Posyandu Bayam Hijau</td>\n",
              "      <td>Mandiri</td>\n",
              "      <td>Jl. Pawenang II RT 03 RW 05</td>\n",
              "      <td>30</td>\n",
              "      <td>30</td>\n",
              "    </tr>\n",
              "    <tr>\n",
              "      <th>5</th>\n",
              "      <td>Arcamanik</td>\n",
              "      <td>Cisaranten Bina Harapan</td>\n",
              "      <td>Posyandu Kecipir 1</td>\n",
              "      <td>Mandiri</td>\n",
              "      <td>RW 07</td>\n",
              "      <td>31</td>\n",
              "      <td>26</td>\n",
              "    </tr>\n",
              "    <tr>\n",
              "      <th>6</th>\n",
              "      <td>Arcamanik</td>\n",
              "      <td>Cisaranten Bina Harapan</td>\n",
              "      <td>Posyandu Kecipir 2</td>\n",
              "      <td>Mandiri</td>\n",
              "      <td>RW 07</td>\n",
              "      <td>32</td>\n",
              "      <td>25</td>\n",
              "    </tr>\n",
              "    <tr>\n",
              "      <th>7</th>\n",
              "      <td>Arcamanik</td>\n",
              "      <td>Cisaranten Bina Harapan</td>\n",
              "      <td>Posyandu Paprika</td>\n",
              "      <td>Mandiri</td>\n",
              "      <td>RW 10</td>\n",
              "      <td>42</td>\n",
              "      <td>42</td>\n",
              "    </tr>\n",
              "    <tr>\n",
              "      <th>8</th>\n",
              "      <td>Arcamanik</td>\n",
              "      <td>Sukamiskin</td>\n",
              "      <td>Belimbing</td>\n",
              "      <td>Purnama</td>\n",
              "      <td>Jl. Saharjo RT 03/03</td>\n",
              "      <td>34</td>\n",
              "      <td>31</td>\n",
              "    </tr>\n",
              "    <tr>\n",
              "      <th>9</th>\n",
              "      <td>Arcamanik</td>\n",
              "      <td>Sukamiskin</td>\n",
              "      <td>Pepaya</td>\n",
              "      <td>Purnama</td>\n",
              "      <td>Jl. Pacuan Kuda Raya No. 17 RW 06</td>\n",
              "      <td>43</td>\n",
              "      <td>36</td>\n",
              "    </tr>\n",
              "    <tr>\n",
              "      <th>10</th>\n",
              "      <td>Arcamanik</td>\n",
              "      <td>Sukamiskin</td>\n",
              "      <td>Jeruk</td>\n",
              "      <td>Purnama</td>\n",
              "      <td>Jl. Arcamanik Endah RT 01/09</td>\n",
              "      <td>17</td>\n",
              "      <td>12</td>\n",
              "    </tr>\n",
              "    <tr>\n",
              "      <th>11</th>\n",
              "      <td>Arcamanik</td>\n",
              "      <td>Sukamiskin</td>\n",
              "      <td>Lengkeng</td>\n",
              "      <td>Purnama</td>\n",
              "      <td>Jl. Bulutangkis No 2 RT 06/10</td>\n",
              "      <td>24</td>\n",
              "      <td>24</td>\n",
              "    </tr>\n",
              "    <tr>\n",
              "      <th>12</th>\n",
              "      <td>Arcamanik</td>\n",
              "      <td>Sukamiskin</td>\n",
              "      <td>Salak</td>\n",
              "      <td>Purnama</td>\n",
              "      <td>Jl. Golf Barat XX RT 04/12</td>\n",
              "      <td>35</td>\n",
              "      <td>28</td>\n",
              "    </tr>\n",
              "    <tr>\n",
              "      <th>13</th>\n",
              "      <td>Arcamanik</td>\n",
              "      <td>Sukamiskin</td>\n",
              "      <td>Srawbery</td>\n",
              "      <td>Purnama</td>\n",
              "      <td>Jl. Atletik II No. 25 RT 03/13</td>\n",
              "      <td>38</td>\n",
              "      <td>20</td>\n",
              "    </tr>\n",
              "    <tr>\n",
              "      <th>14</th>\n",
              "      <td>Arcamanik</td>\n",
              "      <td>Sukamiskin</td>\n",
              "      <td>Rambutan</td>\n",
              "      <td>Mandiri</td>\n",
              "      <td>Jl. Boling RT 03/14</td>\n",
              "      <td>36</td>\n",
              "      <td>28</td>\n",
              "    </tr>\n",
              "    <tr>\n",
              "      <th>15</th>\n",
              "      <td>Arcamanik</td>\n",
              "      <td>Sukamiskin</td>\n",
              "      <td>Sirsak</td>\n",
              "      <td>Purnama</td>\n",
              "      <td>Jl. Banjarsari 14 RT 04/15</td>\n",
              "      <td>38</td>\n",
              "      <td>26</td>\n",
              "    </tr>\n",
              "    <tr>\n",
              "      <th>16</th>\n",
              "      <td>Arcamanik</td>\n",
              "      <td>Sukamiskin</td>\n",
              "      <td>Semangka</td>\n",
              "      <td>Mandiri</td>\n",
              "      <td>Jl.Terusan Pesantren Raya</td>\n",
              "      <td>34</td>\n",
              "      <td>34</td>\n",
              "    </tr>\n",
              "    <tr>\n",
              "      <th>17</th>\n",
              "      <td>Arcamanik</td>\n",
              "      <td>Sukamiskin</td>\n",
              "      <td>Manggis</td>\n",
              "      <td>Purnama</td>\n",
              "      <td>Jl. Sarimas III No. 49 RW 17</td>\n",
              "      <td>39</td>\n",
              "      <td>30</td>\n",
              "    </tr>\n",
              "    <tr>\n",
              "      <th>18</th>\n",
              "      <td>Arcamanik</td>\n",
              "      <td>Cisaranten Endah</td>\n",
              "      <td>Merpati 2</td>\n",
              "      <td>Mandiri</td>\n",
              "      <td>Bumi Parakan Asri RT 02 RW 03</td>\n",
              "      <td>49</td>\n",
              "      <td>50</td>\n",
              "    </tr>\n",
              "    <tr>\n",
              "      <th>19</th>\n",
              "      <td>Arcamanik</td>\n",
              "      <td>Cisaranten Endah</td>\n",
              "      <td>Beo</td>\n",
              "      <td>Mandiri</td>\n",
              "      <td>Jl. Cingised RT 02 RW 04</td>\n",
              "      <td>38</td>\n",
              "      <td>30</td>\n",
              "    </tr>\n",
              "    <tr>\n",
              "      <th>20</th>\n",
              "      <td>Arcamanik</td>\n",
              "      <td>Cisaranten Kulon</td>\n",
              "      <td>Alamanda</td>\n",
              "      <td>Purnama</td>\n",
              "      <td>Komp Antabaru RT 03 RW 10</td>\n",
              "      <td>17</td>\n",
              "      <td>17</td>\n",
              "    </tr>\n",
              "    <tr>\n",
              "      <th>21</th>\n",
              "      <td>Arcamanik</td>\n",
              "      <td>Cisaranten Kulon</td>\n",
              "      <td>Sedap Malam</td>\n",
              "      <td>Purnama</td>\n",
              "      <td>Jl. Cingised RT 03 RW 06</td>\n",
              "      <td>33</td>\n",
              "      <td>33</td>\n",
              "    </tr>\n",
              "    <tr>\n",
              "      <th>22</th>\n",
              "      <td>Arcamanik</td>\n",
              "      <td>Cisaranten Endah</td>\n",
              "      <td>Nuri 1</td>\n",
              "      <td>Mandiri</td>\n",
              "      <td>Jl. Parakan Saat RT 02 RW 06</td>\n",
              "      <td>40</td>\n",
              "      <td>47</td>\n",
              "    </tr>\n",
              "    <tr>\n",
              "      <th>23</th>\n",
              "      <td>Arcamanik</td>\n",
              "      <td>Cisaranten Endah</td>\n",
              "      <td>Nuri 2</td>\n",
              "      <td>Mandiri</td>\n",
              "      <td>Jl. Parakan Saat RT 05 RW 06</td>\n",
              "      <td>45</td>\n",
              "      <td>40</td>\n",
              "    </tr>\n",
              "  </tbody>\n",
              "</table>\n",
              "</div>\n",
              "      <button class=\"colab-df-convert\" onclick=\"convertToInteractive('df-e32307c7-589d-4348-bbeb-26518c86d625')\"\n",
              "              title=\"Convert this dataframe to an interactive table.\"\n",
              "              style=\"display:none;\">\n",
              "        \n",
              "  <svg xmlns=\"http://www.w3.org/2000/svg\" height=\"24px\"viewBox=\"0 0 24 24\"\n",
              "       width=\"24px\">\n",
              "    <path d=\"M0 0h24v24H0V0z\" fill=\"none\"/>\n",
              "    <path d=\"M18.56 5.44l.94 2.06.94-2.06 2.06-.94-2.06-.94-.94-2.06-.94 2.06-2.06.94zm-11 1L8.5 8.5l.94-2.06 2.06-.94-2.06-.94L8.5 2.5l-.94 2.06-2.06.94zm10 10l.94 2.06.94-2.06 2.06-.94-2.06-.94-.94-2.06-.94 2.06-2.06.94z\"/><path d=\"M17.41 7.96l-1.37-1.37c-.4-.4-.92-.59-1.43-.59-.52 0-1.04.2-1.43.59L10.3 9.45l-7.72 7.72c-.78.78-.78 2.05 0 2.83L4 21.41c.39.39.9.59 1.41.59.51 0 1.02-.2 1.41-.59l7.78-7.78 2.81-2.81c.8-.78.8-2.07 0-2.86zM5.41 20L4 18.59l7.72-7.72 1.47 1.35L5.41 20z\"/>\n",
              "  </svg>\n",
              "      </button>\n",
              "      \n",
              "  <style>\n",
              "    .colab-df-container {\n",
              "      display:flex;\n",
              "      flex-wrap:wrap;\n",
              "      gap: 12px;\n",
              "    }\n",
              "\n",
              "    .colab-df-convert {\n",
              "      background-color: #E8F0FE;\n",
              "      border: none;\n",
              "      border-radius: 50%;\n",
              "      cursor: pointer;\n",
              "      display: none;\n",
              "      fill: #1967D2;\n",
              "      height: 32px;\n",
              "      padding: 0 0 0 0;\n",
              "      width: 32px;\n",
              "    }\n",
              "\n",
              "    .colab-df-convert:hover {\n",
              "      background-color: #E2EBFA;\n",
              "      box-shadow: 0px 1px 2px rgba(60, 64, 67, 0.3), 0px 1px 3px 1px rgba(60, 64, 67, 0.15);\n",
              "      fill: #174EA6;\n",
              "    }\n",
              "\n",
              "    [theme=dark] .colab-df-convert {\n",
              "      background-color: #3B4455;\n",
              "      fill: #D2E3FC;\n",
              "    }\n",
              "\n",
              "    [theme=dark] .colab-df-convert:hover {\n",
              "      background-color: #434B5C;\n",
              "      box-shadow: 0px 1px 3px 1px rgba(0, 0, 0, 0.15);\n",
              "      filter: drop-shadow(0px 1px 2px rgba(0, 0, 0, 0.3));\n",
              "      fill: #FFFFFF;\n",
              "    }\n",
              "  </style>\n",
              "\n",
              "      <script>\n",
              "        const buttonEl =\n",
              "          document.querySelector('#df-e32307c7-589d-4348-bbeb-26518c86d625 button.colab-df-convert');\n",
              "        buttonEl.style.display =\n",
              "          google.colab.kernel.accessAllowed ? 'block' : 'none';\n",
              "\n",
              "        async function convertToInteractive(key) {\n",
              "          const element = document.querySelector('#df-e32307c7-589d-4348-bbeb-26518c86d625');\n",
              "          const dataTable =\n",
              "            await google.colab.kernel.invokeFunction('convertToInteractive',\n",
              "                                                     [key], {});\n",
              "          if (!dataTable) return;\n",
              "\n",
              "          const docLinkHtml = 'Like what you see? Visit the ' +\n",
              "            '<a target=\"_blank\" href=https://colab.research.google.com/notebooks/data_table.ipynb>data table notebook</a>'\n",
              "            + ' to learn more about interactive tables.';\n",
              "          element.innerHTML = '';\n",
              "          dataTable['output_type'] = 'display_data';\n",
              "          await google.colab.output.renderOutput(dataTable, element);\n",
              "          const docLink = document.createElement('div');\n",
              "          docLink.innerHTML = docLinkHtml;\n",
              "          element.appendChild(docLink);\n",
              "        }\n",
              "      </script>\n",
              "    </div>\n",
              "  </div>\n",
              "  "
            ]
          },
          "metadata": {},
          "execution_count": 23
        }
      ]
    },
    {
      "cell_type": "code",
      "source": [
        "import matplotlib.pyplot as plt\n",
        "\n",
        "df.plot(kind='scatter', x='Jumlah Balita Aktif', y='Jumlah Balita Terdaftar')\n",
        "\n",
        "plt.title('Jumlah Balita Aktif')\n",
        "plt.xlabel('Jumlah Balita Aktif')\n",
        "plt.ylabel('indeks')\n",
        "plt.xlim(0, 65)\n",
        "plt.ylim(12,60)\n",
        "plt.grid(True)\n",
        "plt.show()"
      ],
      "metadata": {
        "colab": {
          "base_uri": "https://localhost:8080/",
          "height": 295
        },
        "id": "A7RqXqbYFTY0",
        "outputId": "c85e1246-f89f-45ff-c459-4d39898bcd39"
      },
      "execution_count": 24,
      "outputs": [
        {
          "output_type": "display_data",
          "data": {
            "text/plain": [
              "<Figure size 432x288 with 1 Axes>"
            ],
            "image/png": "[encoded data removed]"
          },
          "metadata": {
            "needs_background": "light"
          }
        }
      ]
    },
    {
      "cell_type": "code",
      "source": [
        "import numpy as np\n",
        "x= np.array(df['Jumlah Balita Aktif'])\n",
        "y= np.array(df['Jumlah Balita Terdaftar'])\n",
        "\n",
        "print(f'x : {x}')\n",
        "print(f'y : {y}')"
      ],
      "metadata": {
        "colab": {
          "base_uri": "https://localhost:8080/",
          "height": 0
        },
        "id": "UuFyRcHOFgwE",
        "outputId": "f747a921-8a4f-433c-bb62-6a1bdc4024a4"
      },
      "execution_count": 25,
      "outputs": [
        {
          "output_type": "stream",
          "name": "stdout",
          "text": [
            "x : [23 33 33 29 30 26 25 42 31 36 12 24 28 20 28 26 34 30 50 30 17 33 47 40]\n",
            "y : [24 33 33 29 30 31 32 42 34 43 17 24 35 38 36 38 34 39 49 38 17 33 40 45]\n"
          ]
        }
      ]
    },
    {
      "cell_type": "code",
      "source": [
        "x = x.reshape(-1, 1)\n",
        "x.shape"
      ],
      "metadata": {
        "colab": {
          "base_uri": "https://localhost:8080/",
          "height": 0
        },
        "id": "uI54RdsRGcuV",
        "outputId": "98e15194-f27d-49c1-f72a-5c723c1e724a"
      },
      "execution_count": 26,
      "outputs": [
        {
          "output_type": "execute_result",
          "data": {
            "text/plain": [
              "(24, 1)"
            ]
          },
          "metadata": {},
          "execution_count": 26
        }
      ]
    },
    {
      "cell_type": "code",
      "source": [
        "x"
      ],
      "metadata": {
        "colab": {
          "base_uri": "https://localhost:8080/",
          "height": 0
        },
        "id": "P2hPoOA0Gfjd",
        "outputId": "768983c1-41d2-41ba-b9df-32a99bc41199"
      },
      "execution_count": 27,
      "outputs": [
        {
          "output_type": "execute_result",
          "data": {
            "text/plain": [
              "array([[23],\n",
              "       [33],\n",
              "       [33],\n",
              "       [29],\n",
              "       [30],\n",
              "       [26],\n",
              "       [25],\n",
              "       [42],\n",
              "       [31],\n",
              "       [36],\n",
              "       [12],\n",
              "       [24],\n",
              "       [28],\n",
              "       [20],\n",
              "       [28],\n",
              "       [26],\n",
              "       [34],\n",
              "       [30],\n",
              "       [50],\n",
              "       [30],\n",
              "       [17],\n",
              "       [33],\n",
              "       [47],\n",
              "       [40]])"
            ]
          },
          "metadata": {},
          "execution_count": 27
        }
      ]
    },
    {
      "cell_type": "code",
      "source": [
        "from sklearn.linear_model import LinearRegression\n",
        "\n",
        "model = LinearRegression()\n",
        "model.fit(x,y)"
      ],
      "metadata": {
        "colab": {
          "base_uri": "https://localhost:8080/",
          "height": 0
        },
        "id": "gXa6_SA-Gh2i",
        "outputId": "4e8c1208-6463-43ec-d4b2-5a30cb184fcc"
      },
      "execution_count": 28,
      "outputs": [
        {
          "output_type": "execute_result",
          "data": {
            "text/plain": [
              "LinearRegression()"
            ]
          },
          "metadata": {},
          "execution_count": 28
        }
      ]
    },
    {
      "cell_type": "code",
      "source": [
        "\n",
        "x_vis = np.array([0,4500]).reshape(-1,1)\n",
        "y_vis = model.predict(x_vis)\n"
      ],
      "metadata": {
        "id": "TKppY_lhGrOk"
      },
      "execution_count": 29,
      "outputs": []
    },
    {
      "cell_type": "code",
      "source": [
        "plt.scatter(x,y)\n",
        "plt.plot(x_vis,y_vis, '-r')\n",
        "plt.title('indeks kesejahteraan warga')\n",
        "plt.xlabel('Jumlah Balita Aktif')\n",
        "plt.ylabel('indeks')\n",
        "plt.xlim(0,65)\n",
        "plt.ylim(12,60)\n",
        "plt.grid(True)\n",
        "plt.show()"
      ],
      "metadata": {
        "colab": {
          "base_uri": "https://localhost:8080/",
          "height": 295
        },
        "id": "nr9T9HEoJpW8",
        "outputId": "a38b5093-2384-411b-fef6-f9075f88b164"
      },
      "execution_count": 30,
      "outputs": [
        {
          "output_type": "display_data",
          "data": {
            "text/plain": [
              "<Figure size 432x288 with 1 Axes>"
            ],
            "image/png": "[encoded data removed]"
          },
          "metadata": {
            "needs_background": "light"
          }
        }
      ]
    },
    {
      "cell_type": "code",
      "source": [
        "df['Jumlah Balita Terdaftar'].sum()"
      ],
      "metadata": {
        "id": "3pZME62uYRPy",
        "colab": {
          "base_uri": "https://localhost:8080/",
          "height": 0
        },
        "outputId": "e93a5f28-3f9c-4cb7-f5d7-ed7a837a5b2a"
      },
      "execution_count": 31,
      "outputs": [
        {
          "output_type": "execute_result",
          "data": {
            "text/plain": [
              "814"
            ]
          },
          "metadata": {},
          "execution_count": 31
        }
      ]
    },
    {
      "cell_type": "code",
      "source": [
        "df['Jumlah Balita Aktif'].sum()"
      ],
      "metadata": {
        "colab": {
          "base_uri": "https://localhost:8080/",
          "height": 0
        },
        "id": "w3Idbh90a_Oc",
        "outputId": "54e93026-300f-4a0c-a053-45cb8d1da6d5"
      },
      "execution_count": 32,
      "outputs": [
        {
          "output_type": "execute_result",
          "data": {
            "text/plain": [
              "727"
            ]
          },
          "metadata": {},
          "execution_count": 32
        }
      ]
    },
    {
      "cell_type": "code",
      "source": [
        "import matplotlib.pyplot as plt\n",
        "\n",
        "fig = plt.figure()\n",
        "ax = fig.add_axes([0,0,1,1])\n",
        "usa = ['Jumlah Balita Terdaftar','Jumlah Balita Aktif']\n",
        "orl = [814,727]\n",
        "c = ['orange','yellow', 'blue']\n",
        "plt.title(\"pendidikan\")\n",
        "ax.bar(usa,orl, color=c)\n",
        "plt.show()\n",
        "print()\n",
        "import matplotlib.pyplot as plt\n",
        "\n",
        "fig = plt.figure()\n",
        "ax = fig.add_axes([0,0,1,1])\n",
        "ax.axis('equal')\n",
        "plt.title('pendidikan')\n",
        "jurusa=['Jumlah Balita Terdaftar','Jumlah Balita Aktif']\n",
        "orll = [814,727]\n",
        "ax.pie(orll,labels=jurusa,autopct='%1.2f%%')\n",
        "\n",
        "plt.show()"
      ],
      "metadata": {
        "colab": {
          "base_uri": "https://localhost:8080/",
          "height": 688
        },
        "id": "XOSdfGqgbRCP",
        "outputId": "5f66d204-957e-49e4-ffeb-16d88b58b213"
      },
      "execution_count": 39,
      "outputs": [
        {
          "output_type": "display_data",
          "data": {
            "text/plain": [
              "<Figure size 432x288 with 1 Axes>"
            ],
            "image/png": "[encoded data removed]"
          },
          "metadata": {
            "needs_background": "light"
          }
        },
        {
          "output_type": "stream",
          "name": "stdout",
          "text": [
            "\n"
          ]
        },
        {
          "output_type": "display_data",
          "data": {
            "text/plain": [
              "<Figure size 432x288 with 1 Axes>"
            ],
            "image/png": "[encoded data removed]"
          },
          "metadata": {}
        }
      ]
    },
    {
      "cell_type": "code",
      "source": [
        "print(f'interceft : {model.intercept_}')\n",
        "print(f'slope : {model.coef_}')"
      ],
      "metadata": {
        "colab": {
          "base_uri": "https://localhost:8080/",
          "height": 0
        },
        "id": "e1xYAzGrcFcq",
        "outputId": "884ec2b7-c66d-456e-ab0c-66ded7c680be"
      },
      "execution_count": 34,
      "outputs": [
        {
          "output_type": "stream",
          "name": "stdout",
          "text": [
            "interceft : 11.899309100405986\n",
            "slope : [0.72684537]\n"
          ]
        }
      ]
    },
    {
      "cell_type": "code",
      "source": [
        "Rombeng = np.array([13,17,27,32,51]).reshape(-1,1)\n",
        "Rombeng"
      ],
      "metadata": {
        "colab": {
          "base_uri": "https://localhost:8080/",
          "height": 0
        },
        "id": "RY4Ahn0scI9X",
        "outputId": "85ecdcf4-77ad-4d28-87a1-62bc07ac15f0"
      },
      "execution_count": 35,
      "outputs": [
        {
          "output_type": "execute_result",
          "data": {
            "text/plain": [
              "array([[13],\n",
              "       [17],\n",
              "       [27],\n",
              "       [32],\n",
              "       [51]])"
            ]
          },
          "metadata": {},
          "execution_count": 35
        }
      ]
    },
    {
      "cell_type": "code",
      "source": [
        "prediksi_indeks = model.predict(Rombeng)\n",
        "prediksi_indeks"
      ],
      "metadata": {
        "colab": {
          "base_uri": "https://localhost:8080/",
          "height": 0
        },
        "id": "tKrFg5fJcpIg",
        "outputId": "bb6cfc97-ac31-4cc0-91a4-0be10f3181bd"
      },
      "execution_count": 36,
      "outputs": [
        {
          "output_type": "execute_result",
          "data": {
            "text/plain": [
              "array([21.34829887, 24.25568033, 31.524134  , 35.15836083, 48.9684228 ])"
            ]
          },
          "metadata": {},
          "execution_count": 36
        }
      ]
    },
    {
      "cell_type": "code",
      "source": [
        "for penduduk, index in zip(Rombeng, prediksi_indeks):\n",
        "  print(f'Rombeng : {penduduk} prediksi : {index}')"
      ],
      "metadata": {
        "colab": {
          "base_uri": "https://localhost:8080/",
          "height": 0
        },
        "id": "3M_C_LHhcpk4",
        "outputId": "80019400-3c76-4760-93af-575755d08d5a"
      },
      "execution_count": 37,
      "outputs": [
        {
          "output_type": "stream",
          "name": "stdout",
          "text": [
            "Rombeng : [13] prediksi : 21.348298867494474\n",
            "Rombeng : [17] prediksi : 24.255680334290933\n",
            "Rombeng : [27] prediksi : 31.52413400128208\n",
            "Rombeng : [32] prediksi : 35.15836083477765\n",
            "Rombeng : [51] prediksi : 48.96842280206082\n"
          ]
        }
      ]
    }
  ]
}