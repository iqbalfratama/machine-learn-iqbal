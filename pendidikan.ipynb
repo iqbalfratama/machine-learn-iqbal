{
  "nbformat": 4,
  "nbformat_minor": 0,
  "metadata": {
    "colab": {
      "provenance": []
    },
    "kernelspec": {
      "name": "python3",
      "display_name": "Python 3"
    },
    "language_info": {
      "name": "python"
    }
  },
  "cells": [
    {
      "cell_type": "code",
      "execution_count": 40,
      "metadata": {
        "colab": {
          "base_uri": "https://localhost:8080/"
        },
        "id": "RTUnsBKrYhML",
        "outputId": "779d1503-8ad5-41bf-99f9-d528b260742b"
      },
      "outputs": [
        {
          "output_type": "stream",
          "name": "stdout",
          "text": [
            "Drive already mounted at /content/drive; to attempt to forcibly remount, call drive.mount(\"/content/drive\", force_remount=True).\n"
          ]
        }
      ],
      "source": [
        "import pandas as pd\n",
        "from google.colab import drive \n",
        "drive.mount('/content/drive')"
      ]
    },
    {
      "cell_type": "code",
      "source": [
        "path = '/content/drive/MyDrive/CSV/tahun-20192020-genap---data-sd-kec.-sukajadi---dapodikdasmen.csv'\n",
        "df = pd.read_csv(path)\n",
        "df.describe()"
      ],
      "metadata": {
        "colab": {
          "base_uri": "https://localhost:8080/",
          "height": 300
        },
        "id": "GnKRxQXPdZss",
        "outputId": "459751da-13a7-453c-c84c-7719a81fdf8e"
      },
      "execution_count": 41,
      "outputs": [
        {
          "output_type": "execute_result",
          "data": {
            "text/plain": [
              "             No          NPSN  Peserta Didik  Rombongan Belajar       Guru  \\\n",
              "count  23.00000  2.300000e+01      23.000000          23.000000  23.000000   \n",
              "mean   12.00000  2.455132e+07     369.782609          13.695652  16.478261   \n",
              "std     6.78233  1.429911e+07     263.461565           8.487610  10.870601   \n",
              "min     1.00000  2.021953e+07       8.000000           4.000000   2.000000   \n",
              "25%     6.50000  2.021973e+07     148.000000           7.000000   9.500000   \n",
              "50%    12.00000  2.024513e+07     349.000000          12.000000  14.000000   \n",
              "75%    17.50000  2.024528e+07     498.500000          17.500000  21.000000   \n",
              "max    23.00000  6.988361e+07     990.000000          37.000000  47.000000   \n",
              "\n",
              "         Pegawai   R. Kelas     R. Lab  R. Perpus  \n",
              "count  23.000000  23.000000  23.000000  23.000000  \n",
              "mean    3.869565  10.782609   0.304348   1.043478  \n",
              "std     2.546019   5.915746   0.558796   0.705708  \n",
              "min     1.000000   5.000000   0.000000   0.000000  \n",
              "25%     3.000000   6.500000   0.000000   1.000000  \n",
              "50%     3.000000   8.000000   0.000000   1.000000  \n",
              "75%     4.000000  12.500000   0.500000   1.000000  \n",
              "max    11.000000  30.000000   2.000000   4.000000  "
            ],
            "text/html": [
              "\n",
              "  <div id=\"df-99d9921b-c343-4071-8713-e63eee72aed3\">\n",
              "    <div class=\"colab-df-container\">\n",
              "      <div>\n",
              "<style scoped>\n",
              "    .dataframe tbody tr th:only-of-type {\n",
              "        vertical-align: middle;\n",
              "    }\n",
              "\n",
              "    .dataframe tbody tr th {\n",
              "        vertical-align: top;\n",
              "    }\n",
              "\n",
              "    .dataframe thead th {\n",
              "        text-align: right;\n",
              "    }\n",
              "</style>\n",
              "<table border=\"1\" class=\"dataframe\">\n",
              "  <thead>\n",
              "    <tr style=\"text-align: right;\">\n",
              "      <th></th>\n",
              "      <th>No</th>\n",
              "      <th>NPSN</th>\n",
              "      <th>Peserta Didik</th>\n",
              "      <th>Rombongan Belajar</th>\n",
              "      <th>Guru</th>\n",
              "      <th>Pegawai</th>\n",
              "      <th>R. Kelas</th>\n",
              "      <th>R. Lab</th>\n",
              "      <th>R. Perpus</th>\n",
              "    </tr>\n",
              "  </thead>\n",
              "  <tbody>\n",
              "    <tr>\n",
              "      <th>count</th>\n",
              "      <td>23.00000</td>\n",
              "      <td>2.300000e+01</td>\n",
              "      <td>23.000000</td>\n",
              "      <td>23.000000</td>\n",
              "      <td>23.000000</td>\n",
              "      <td>23.000000</td>\n",
              "      <td>23.000000</td>\n",
              "      <td>23.000000</td>\n",
              "      <td>23.000000</td>\n",
              "    </tr>\n",
              "    <tr>\n",
              "      <th>mean</th>\n",
              "      <td>12.00000</td>\n",
              "      <td>2.455132e+07</td>\n",
              "      <td>369.782609</td>\n",
              "      <td>13.695652</td>\n",
              "      <td>16.478261</td>\n",
              "      <td>3.869565</td>\n",
              "      <td>10.782609</td>\n",
              "      <td>0.304348</td>\n",
              "      <td>1.043478</td>\n",
              "    </tr>\n",
              "    <tr>\n",
              "      <th>std</th>\n",
              "      <td>6.78233</td>\n",
              "      <td>1.429911e+07</td>\n",
              "      <td>263.461565</td>\n",
              "      <td>8.487610</td>\n",
              "      <td>10.870601</td>\n",
              "      <td>2.546019</td>\n",
              "      <td>5.915746</td>\n",
              "      <td>0.558796</td>\n",
              "      <td>0.705708</td>\n",
              "    </tr>\n",
              "    <tr>\n",
              "      <th>min</th>\n",
              "      <td>1.00000</td>\n",
              "      <td>2.021953e+07</td>\n",
              "      <td>8.000000</td>\n",
              "      <td>4.000000</td>\n",
              "      <td>2.000000</td>\n",
              "      <td>1.000000</td>\n",
              "      <td>5.000000</td>\n",
              "      <td>0.000000</td>\n",
              "      <td>0.000000</td>\n",
              "    </tr>\n",
              "    <tr>\n",
              "      <th>25%</th>\n",
              "      <td>6.50000</td>\n",
              "      <td>2.021973e+07</td>\n",
              "      <td>148.000000</td>\n",
              "      <td>7.000000</td>\n",
              "      <td>9.500000</td>\n",
              "      <td>3.000000</td>\n",
              "      <td>6.500000</td>\n",
              "      <td>0.000000</td>\n",
              "      <td>1.000000</td>\n",
              "    </tr>\n",
              "    <tr>\n",
              "      <th>50%</th>\n",
              "      <td>12.00000</td>\n",
              "      <td>2.024513e+07</td>\n",
              "      <td>349.000000</td>\n",
              "      <td>12.000000</td>\n",
              "      <td>14.000000</td>\n",
              "      <td>3.000000</td>\n",
              "      <td>8.000000</td>\n",
              "      <td>0.000000</td>\n",
              "      <td>1.000000</td>\n",
              "    </tr>\n",
              "    <tr>\n",
              "      <th>75%</th>\n",
              "      <td>17.50000</td>\n",
              "      <td>2.024528e+07</td>\n",
              "      <td>498.500000</td>\n",
              "      <td>17.500000</td>\n",
              "      <td>21.000000</td>\n",
              "      <td>4.000000</td>\n",
              "      <td>12.500000</td>\n",
              "      <td>0.500000</td>\n",
              "      <td>1.000000</td>\n",
              "    </tr>\n",
              "    <tr>\n",
              "      <th>max</th>\n",
              "      <td>23.00000</td>\n",
              "      <td>6.988361e+07</td>\n",
              "      <td>990.000000</td>\n",
              "      <td>37.000000</td>\n",
              "      <td>47.000000</td>\n",
              "      <td>11.000000</td>\n",
              "      <td>30.000000</td>\n",
              "      <td>2.000000</td>\n",
              "      <td>4.000000</td>\n",
              "    </tr>\n",
              "  </tbody>\n",
              "</table>\n",
              "</div>\n",
              "      <button class=\"colab-df-convert\" onclick=\"convertToInteractive('df-99d9921b-c343-4071-8713-e63eee72aed3')\"\n",
              "              title=\"Convert this dataframe to an interactive table.\"\n",
              "              style=\"display:none;\">\n",
              "        \n",
              "  <svg xmlns=\"http://www.w3.org/2000/svg\" height=\"24px\"viewBox=\"0 0 24 24\"\n",
              "       width=\"24px\">\n",
              "    <path d=\"M0 0h24v24H0V0z\" fill=\"none\"/>\n",
              "    <path d=\"M18.56 5.44l.94 2.06.94-2.06 2.06-.94-2.06-.94-.94-2.06-.94 2.06-2.06.94zm-11 1L8.5 8.5l.94-2.06 2.06-.94-2.06-.94L8.5 2.5l-.94 2.06-2.06.94zm10 10l.94 2.06.94-2.06 2.06-.94-2.06-.94-.94-2.06-.94 2.06-2.06.94z\"/><path d=\"M17.41 7.96l-1.37-1.37c-.4-.4-.92-.59-1.43-.59-.52 0-1.04.2-1.43.59L10.3 9.45l-7.72 7.72c-.78.78-.78 2.05 0 2.83L4 21.41c.39.39.9.59 1.41.59.51 0 1.02-.2 1.41-.59l7.78-7.78 2.81-2.81c.8-.78.8-2.07 0-2.86zM5.41 20L4 18.59l7.72-7.72 1.47 1.35L5.41 20z\"/>\n",
              "  </svg>\n",
              "      </button>\n",
              "      \n",
              "  <style>\n",
              "    .colab-df-container {\n",
              "      display:flex;\n",
              "      flex-wrap:wrap;\n",
              "      gap: 12px;\n",
              "    }\n",
              "\n",
              "    .colab-df-convert {\n",
              "      background-color: #E8F0FE;\n",
              "      border: none;\n",
              "      border-radius: 50%;\n",
              "      cursor: pointer;\n",
              "      display: none;\n",
              "      fill: #1967D2;\n",
              "      height: 32px;\n",
              "      padding: 0 0 0 0;\n",
              "      width: 32px;\n",
              "    }\n",
              "\n",
              "    .colab-df-convert:hover {\n",
              "      background-color: #E2EBFA;\n",
              "      box-shadow: 0px 1px 2px rgba(60, 64, 67, 0.3), 0px 1px 3px 1px rgba(60, 64, 67, 0.15);\n",
              "      fill: #174EA6;\n",
              "    }\n",
              "\n",
              "    [theme=dark] .colab-df-convert {\n",
              "      background-color: #3B4455;\n",
              "      fill: #D2E3FC;\n",
              "    }\n",
              "\n",
              "    [theme=dark] .colab-df-convert:hover {\n",
              "      background-color: #434B5C;\n",
              "      box-shadow: 0px 1px 3px 1px rgba(0, 0, 0, 0.15);\n",
              "      filter: drop-shadow(0px 1px 2px rgba(0, 0, 0, 0.3));\n",
              "      fill: #FFFFFF;\n",
              "    }\n",
              "  </style>\n",
              "\n",
              "      <script>\n",
              "        const buttonEl =\n",
              "          document.querySelector('#df-99d9921b-c343-4071-8713-e63eee72aed3 button.colab-df-convert');\n",
              "        buttonEl.style.display =\n",
              "          google.colab.kernel.accessAllowed ? 'block' : 'none';\n",
              "\n",
              "        async function convertToInteractive(key) {\n",
              "          const element = document.querySelector('#df-99d9921b-c343-4071-8713-e63eee72aed3');\n",
              "          const dataTable =\n",
              "            await google.colab.kernel.invokeFunction('convertToInteractive',\n",
              "                                                     [key], {});\n",
              "          if (!dataTable) return;\n",
              "\n",
              "          const docLinkHtml = 'Like what you see? Visit the ' +\n",
              "            '<a target=\"_blank\" href=https://colab.research.google.com/notebooks/data_table.ipynb>data table notebook</a>'\n",
              "            + ' to learn more about interactive tables.';\n",
              "          element.innerHTML = '';\n",
              "          dataTable['output_type'] = 'display_data';\n",
              "          await google.colab.output.renderOutput(dataTable, element);\n",
              "          const docLink = document.createElement('div');\n",
              "          docLink.innerHTML = docLinkHtml;\n",
              "          element.appendChild(docLink);\n",
              "        }\n",
              "      </script>\n",
              "    </div>\n",
              "  </div>\n",
              "  "
            ]
          },
          "metadata": {},
          "execution_count": 41
        }
      ]
    },
    {
      "cell_type": "code",
      "source": [
        "df"
      ],
      "metadata": {
        "colab": {
          "base_uri": "https://localhost:8080/",
          "height": 770
        },
        "id": "qd814VIzd6aw",
        "outputId": "7fbbfd41-84b4-4056-ab71-e5b717dc0027"
      },
      "execution_count": 42,
      "outputs": [
        {
          "output_type": "execute_result",
          "data": {
            "text/plain": [
              "    No                               Nama Sekolah      NPSN      BP  Status  \\\n",
              "0    1             SDN 018 SUKAGALIH KOTA BANDUNG  20245266      SD  Negeri   \n",
              "1    2            SDN 048 SIRNAMANAH KOTA BANDUNG  20244920      SD  Negeri   \n",
              "2    3             SDN 071 SUKAGALIH KOTA BANDUNG  20245267      SD  Negeri   \n",
              "3    4              SDN 072 SUKASARI KOTA BANDUNG  20245276      SD  Negeri   \n",
              "4    5              SDN 076 SUKAJADI KOTA BANDUNG  20244925      SD  Negeri   \n",
              "5    6             SDN 077 SEJAHTERA KOTA BANDUNG  20245980      SD  Negeri   \n",
              "6    7      SDN 096 SARIJADI SELATAN KOTA BANDUNG  20245260      SD  Negeri   \n",
              "7    8             SDN 136 SUKAWARNA KOTA BANDUNG  20245278      SD  Negeri   \n",
              "8    9              SDN 193 CARINGIN KOTA BANDUNG  20245126      SD  Negeri   \n",
              "9   10              SDN 194 SUKAJADI KOTA BANDUNG  20244926      SD  Negeri   \n",
              "10  11                SDN 207 CIBOGO KOTA BANDUNG  20245137      SD  Negeri   \n",
              "11  12  SDN 208 LUGINASARI SUKAGALIH KOTA BANDUNG  20245963      SD  Negeri   \n",
              "12  13              SDN 272 SUKASARI KOTA BANDUNG  20245274      SD  Negeri   \n",
              "13  14                               SD AL IKHLAS  20219532      SD  Swasta   \n",
              "14  15                                SD ANUGERAH  20219571      SD  Swasta   \n",
              "15  16                                  SD CEMARA  20219601      SD  Swasta   \n",
              "16  17                            SD CITRA WINAYA  20219598      SD  Swasta   \n",
              "17  18                                    SD GIKI  20219614      SD  Swasta   \n",
              "18  19                           SD IBNU TAIMIYAH  20219610      SD  Swasta   \n",
              "19  20                          SD MUHAMMADIYAH 4  20219851      SD  Swasta   \n",
              "20  21                              SD SEMI PALAR  69883610      SD  Swasta   \n",
              "21  22                        SD UCHUWWATUL ISLAM  20219897      SD  Swasta   \n",
              "22  23              SD BANDUNG INDEPENDENT SCHOOL  69850863  SPK SD  Swasta   \n",
              "\n",
              "    Peserta Didik  Rombongan Belajar  Guru  Pegawai  R. Kelas  R. Lab  \\\n",
              "0             521                 17    18        4         9       0   \n",
              "1             561                 18    24        4        15       0   \n",
              "2             990                 32    38       10        18       0   \n",
              "3             134                  7     9        3         7       0   \n",
              "4             321                 11    11        3         8       0   \n",
              "5             973                 37    47       11        18       0   \n",
              "6             390                 12    16        5        12       0   \n",
              "7             613                 24    26        7        30       0   \n",
              "8             476                 18    24        4        18       0   \n",
              "9             434                 14    17        3         7       0   \n",
              "10            255                 10    11        3         8       0   \n",
              "11            643                 22    29        4        12       1   \n",
              "12            349                 12    15        2        11       1   \n",
              "13            381                 13    12        1         6       0   \n",
              "14              8                  4     4        1         6       1   \n",
              "15            121                  7     4        1         7       0   \n",
              "16            207                  8    10        3         8       1   \n",
              "17            162                  6     9        3         6       1   \n",
              "18            324                 12    14        2        12       2   \n",
              "19            365                 13    17        3        13       0   \n",
              "20            106                  6    14        3         6       0   \n",
              "21            117                  6     8        3         5       0   \n",
              "22             54                  6     2        6         6       0   \n",
              "\n",
              "    R. Perpus  \n",
              "0           1  \n",
              "1           1  \n",
              "2           1  \n",
              "3           1  \n",
              "4           1  \n",
              "5           1  \n",
              "6           1  \n",
              "7           4  \n",
              "8           1  \n",
              "9           1  \n",
              "10          0  \n",
              "11          1  \n",
              "12          1  \n",
              "13          1  \n",
              "14          1  \n",
              "15          1  \n",
              "16          1  \n",
              "17          1  \n",
              "18          1  \n",
              "19          1  \n",
              "20          1  \n",
              "21          1  \n",
              "22          0  "
            ],
            "text/html": [
              "\n",
              "  <div id=\"df-30f192d4-7091-41c4-b19a-58d9d01c6f35\">\n",
              "    <div class=\"colab-df-container\">\n",
              "      <div>\n",
              "<style scoped>\n",
              "    .dataframe tbody tr th:only-of-type {\n",
              "        vertical-align: middle;\n",
              "    }\n",
              "\n",
              "    .dataframe tbody tr th {\n",
              "        vertical-align: top;\n",
              "    }\n",
              "\n",
              "    .dataframe thead th {\n",
              "        text-align: right;\n",
              "    }\n",
              "</style>\n",
              "<table border=\"1\" class=\"dataframe\">\n",
              "  <thead>\n",
              "    <tr style=\"text-align: right;\">\n",
              "      <th></th>\n",
              "      <th>No</th>\n",
              "      <th>Nama Sekolah</th>\n",
              "      <th>NPSN</th>\n",
              "      <th>BP</th>\n",
              "      <th>Status</th>\n",
              "      <th>Peserta Didik</th>\n",
              "      <th>Rombongan Belajar</th>\n",
              "      <th>Guru</th>\n",
              "      <th>Pegawai</th>\n",
              "      <th>R. Kelas</th>\n",
              "      <th>R. Lab</th>\n",
              "      <th>R. Perpus</th>\n",
              "    </tr>\n",
              "  </thead>\n",
              "  <tbody>\n",
              "    <tr>\n",
              "      <th>0</th>\n",
              "      <td>1</td>\n",
              "      <td>SDN 018 SUKAGALIH KOTA BANDUNG</td>\n",
              "      <td>20245266</td>\n",
              "      <td>SD</td>\n",
              "      <td>Negeri</td>\n",
              "      <td>521</td>\n",
              "      <td>17</td>\n",
              "      <td>18</td>\n",
              "      <td>4</td>\n",
              "      <td>9</td>\n",
              "      <td>0</td>\n",
              "      <td>1</td>\n",
              "    </tr>\n",
              "    <tr>\n",
              "      <th>1</th>\n",
              "      <td>2</td>\n",
              "      <td>SDN 048 SIRNAMANAH KOTA BANDUNG</td>\n",
              "      <td>20244920</td>\n",
              "      <td>SD</td>\n",
              "      <td>Negeri</td>\n",
              "      <td>561</td>\n",
              "      <td>18</td>\n",
              "      <td>24</td>\n",
              "      <td>4</td>\n",
              "      <td>15</td>\n",
              "      <td>0</td>\n",
              "      <td>1</td>\n",
              "    </tr>\n",
              "    <tr>\n",
              "      <th>2</th>\n",
              "      <td>3</td>\n",
              "      <td>SDN 071 SUKAGALIH KOTA BANDUNG</td>\n",
              "      <td>20245267</td>\n",
              "      <td>SD</td>\n",
              "      <td>Negeri</td>\n",
              "      <td>990</td>\n",
              "      <td>32</td>\n",
              "      <td>38</td>\n",
              "      <td>10</td>\n",
              "      <td>18</td>\n",
              "      <td>0</td>\n",
              "      <td>1</td>\n",
              "    </tr>\n",
              "    <tr>\n",
              "      <th>3</th>\n",
              "      <td>4</td>\n",
              "      <td>SDN 072 SUKASARI KOTA BANDUNG</td>\n",
              "      <td>20245276</td>\n",
              "      <td>SD</td>\n",
              "      <td>Negeri</td>\n",
              "      <td>134</td>\n",
              "      <td>7</td>\n",
              "      <td>9</td>\n",
              "      <td>3</td>\n",
              "      <td>7</td>\n",
              "      <td>0</td>\n",
              "      <td>1</td>\n",
              "    </tr>\n",
              "    <tr>\n",
              "      <th>4</th>\n",
              "      <td>5</td>\n",
              "      <td>SDN 076 SUKAJADI KOTA BANDUNG</td>\n",
              "      <td>20244925</td>\n",
              "      <td>SD</td>\n",
              "      <td>Negeri</td>\n",
              "      <td>321</td>\n",
              "      <td>11</td>\n",
              "      <td>11</td>\n",
              "      <td>3</td>\n",
              "      <td>8</td>\n",
              "      <td>0</td>\n",
              "      <td>1</td>\n",
              "    </tr>\n",
              "    <tr>\n",
              "      <th>5</th>\n",
              "      <td>6</td>\n",
              "      <td>SDN 077 SEJAHTERA KOTA BANDUNG</td>\n",
              "      <td>20245980</td>\n",
              "      <td>SD</td>\n",
              "      <td>Negeri</td>\n",
              "      <td>973</td>\n",
              "      <td>37</td>\n",
              "      <td>47</td>\n",
              "      <td>11</td>\n",
              "      <td>18</td>\n",
              "      <td>0</td>\n",
              "      <td>1</td>\n",
              "    </tr>\n",
              "    <tr>\n",
              "      <th>6</th>\n",
              "      <td>7</td>\n",
              "      <td>SDN 096 SARIJADI SELATAN KOTA BANDUNG</td>\n",
              "      <td>20245260</td>\n",
              "      <td>SD</td>\n",
              "      <td>Negeri</td>\n",
              "      <td>390</td>\n",
              "      <td>12</td>\n",
              "      <td>16</td>\n",
              "      <td>5</td>\n",
              "      <td>12</td>\n",
              "      <td>0</td>\n",
              "      <td>1</td>\n",
              "    </tr>\n",
              "    <tr>\n",
              "      <th>7</th>\n",
              "      <td>8</td>\n",
              "      <td>SDN 136 SUKAWARNA KOTA BANDUNG</td>\n",
              "      <td>20245278</td>\n",
              "      <td>SD</td>\n",
              "      <td>Negeri</td>\n",
              "      <td>613</td>\n",
              "      <td>24</td>\n",
              "      <td>26</td>\n",
              "      <td>7</td>\n",
              "      <td>30</td>\n",
              "      <td>0</td>\n",
              "      <td>4</td>\n",
              "    </tr>\n",
              "    <tr>\n",
              "      <th>8</th>\n",
              "      <td>9</td>\n",
              "      <td>SDN 193 CARINGIN KOTA BANDUNG</td>\n",
              "      <td>20245126</td>\n",
              "      <td>SD</td>\n",
              "      <td>Negeri</td>\n",
              "      <td>476</td>\n",
              "      <td>18</td>\n",
              "      <td>24</td>\n",
              "      <td>4</td>\n",
              "      <td>18</td>\n",
              "      <td>0</td>\n",
              "      <td>1</td>\n",
              "    </tr>\n",
              "    <tr>\n",
              "      <th>9</th>\n",
              "      <td>10</td>\n",
              "      <td>SDN 194 SUKAJADI KOTA BANDUNG</td>\n",
              "      <td>20244926</td>\n",
              "      <td>SD</td>\n",
              "      <td>Negeri</td>\n",
              "      <td>434</td>\n",
              "      <td>14</td>\n",
              "      <td>17</td>\n",
              "      <td>3</td>\n",
              "      <td>7</td>\n",
              "      <td>0</td>\n",
              "      <td>1</td>\n",
              "    </tr>\n",
              "    <tr>\n",
              "      <th>10</th>\n",
              "      <td>11</td>\n",
              "      <td>SDN 207 CIBOGO KOTA BANDUNG</td>\n",
              "      <td>20245137</td>\n",
              "      <td>SD</td>\n",
              "      <td>Negeri</td>\n",
              "      <td>255</td>\n",
              "      <td>10</td>\n",
              "      <td>11</td>\n",
              "      <td>3</td>\n",
              "      <td>8</td>\n",
              "      <td>0</td>\n",
              "      <td>0</td>\n",
              "    </tr>\n",
              "    <tr>\n",
              "      <th>11</th>\n",
              "      <td>12</td>\n",
              "      <td>SDN 208 LUGINASARI SUKAGALIH KOTA BANDUNG</td>\n",
              "      <td>20245963</td>\n",
              "      <td>SD</td>\n",
              "      <td>Negeri</td>\n",
              "      <td>643</td>\n",
              "      <td>22</td>\n",
              "      <td>29</td>\n",
              "      <td>4</td>\n",
              "      <td>12</td>\n",
              "      <td>1</td>\n",
              "      <td>1</td>\n",
              "    </tr>\n",
              "    <tr>\n",
              "      <th>12</th>\n",
              "      <td>13</td>\n",
              "      <td>SDN 272 SUKASARI KOTA BANDUNG</td>\n",
              "      <td>20245274</td>\n",
              "      <td>SD</td>\n",
              "      <td>Negeri</td>\n",
              "      <td>349</td>\n",
              "      <td>12</td>\n",
              "      <td>15</td>\n",
              "      <td>2</td>\n",
              "      <td>11</td>\n",
              "      <td>1</td>\n",
              "      <td>1</td>\n",
              "    </tr>\n",
              "    <tr>\n",
              "      <th>13</th>\n",
              "      <td>14</td>\n",
              "      <td>SD AL IKHLAS</td>\n",
              "      <td>20219532</td>\n",
              "      <td>SD</td>\n",
              "      <td>Swasta</td>\n",
              "      <td>381</td>\n",
              "      <td>13</td>\n",
              "      <td>12</td>\n",
              "      <td>1</td>\n",
              "      <td>6</td>\n",
              "      <td>0</td>\n",
              "      <td>1</td>\n",
              "    </tr>\n",
              "    <tr>\n",
              "      <th>14</th>\n",
              "      <td>15</td>\n",
              "      <td>SD ANUGERAH</td>\n",
              "      <td>20219571</td>\n",
              "      <td>SD</td>\n",
              "      <td>Swasta</td>\n",
              "      <td>8</td>\n",
              "      <td>4</td>\n",
              "      <td>4</td>\n",
              "      <td>1</td>\n",
              "      <td>6</td>\n",
              "      <td>1</td>\n",
              "      <td>1</td>\n",
              "    </tr>\n",
              "    <tr>\n",
              "      <th>15</th>\n",
              "      <td>16</td>\n",
              "      <td>SD CEMARA</td>\n",
              "      <td>20219601</td>\n",
              "      <td>SD</td>\n",
              "      <td>Swasta</td>\n",
              "      <td>121</td>\n",
              "      <td>7</td>\n",
              "      <td>4</td>\n",
              "      <td>1</td>\n",
              "      <td>7</td>\n",
              "      <td>0</td>\n",
              "      <td>1</td>\n",
              "    </tr>\n",
              "    <tr>\n",
              "      <th>16</th>\n",
              "      <td>17</td>\n",
              "      <td>SD CITRA WINAYA</td>\n",
              "      <td>20219598</td>\n",
              "      <td>SD</td>\n",
              "      <td>Swasta</td>\n",
              "      <td>207</td>\n",
              "      <td>8</td>\n",
              "      <td>10</td>\n",
              "      <td>3</td>\n",
              "      <td>8</td>\n",
              "      <td>1</td>\n",
              "      <td>1</td>\n",
              "    </tr>\n",
              "    <tr>\n",
              "      <th>17</th>\n",
              "      <td>18</td>\n",
              "      <td>SD GIKI</td>\n",
              "      <td>20219614</td>\n",
              "      <td>SD</td>\n",
              "      <td>Swasta</td>\n",
              "      <td>162</td>\n",
              "      <td>6</td>\n",
              "      <td>9</td>\n",
              "      <td>3</td>\n",
              "      <td>6</td>\n",
              "      <td>1</td>\n",
              "      <td>1</td>\n",
              "    </tr>\n",
              "    <tr>\n",
              "      <th>18</th>\n",
              "      <td>19</td>\n",
              "      <td>SD IBNU TAIMIYAH</td>\n",
              "      <td>20219610</td>\n",
              "      <td>SD</td>\n",
              "      <td>Swasta</td>\n",
              "      <td>324</td>\n",
              "      <td>12</td>\n",
              "      <td>14</td>\n",
              "      <td>2</td>\n",
              "      <td>12</td>\n",
              "      <td>2</td>\n",
              "      <td>1</td>\n",
              "    </tr>\n",
              "    <tr>\n",
              "      <th>19</th>\n",
              "      <td>20</td>\n",
              "      <td>SD MUHAMMADIYAH 4</td>\n",
              "      <td>20219851</td>\n",
              "      <td>SD</td>\n",
              "      <td>Swasta</td>\n",
              "      <td>365</td>\n",
              "      <td>13</td>\n",
              "      <td>17</td>\n",
              "      <td>3</td>\n",
              "      <td>13</td>\n",
              "      <td>0</td>\n",
              "      <td>1</td>\n",
              "    </tr>\n",
              "    <tr>\n",
              "      <th>20</th>\n",
              "      <td>21</td>\n",
              "      <td>SD SEMI PALAR</td>\n",
              "      <td>69883610</td>\n",
              "      <td>SD</td>\n",
              "      <td>Swasta</td>\n",
              "      <td>106</td>\n",
              "      <td>6</td>\n",
              "      <td>14</td>\n",
              "      <td>3</td>\n",
              "      <td>6</td>\n",
              "      <td>0</td>\n",
              "      <td>1</td>\n",
              "    </tr>\n",
              "    <tr>\n",
              "      <th>21</th>\n",
              "      <td>22</td>\n",
              "      <td>SD UCHUWWATUL ISLAM</td>\n",
              "      <td>20219897</td>\n",
              "      <td>SD</td>\n",
              "      <td>Swasta</td>\n",
              "      <td>117</td>\n",
              "      <td>6</td>\n",
              "      <td>8</td>\n",
              "      <td>3</td>\n",
              "      <td>5</td>\n",
              "      <td>0</td>\n",
              "      <td>1</td>\n",
              "    </tr>\n",
              "    <tr>\n",
              "      <th>22</th>\n",
              "      <td>23</td>\n",
              "      <td>SD BANDUNG INDEPENDENT SCHOOL</td>\n",
              "      <td>69850863</td>\n",
              "      <td>SPK SD</td>\n",
              "      <td>Swasta</td>\n",
              "      <td>54</td>\n",
              "      <td>6</td>\n",
              "      <td>2</td>\n",
              "      <td>6</td>\n",
              "      <td>6</td>\n",
              "      <td>0</td>\n",
              "      <td>0</td>\n",
              "    </tr>\n",
              "  </tbody>\n",
              "</table>\n",
              "</div>\n",
              "      <button class=\"colab-df-convert\" onclick=\"convertToInteractive('df-30f192d4-7091-41c4-b19a-58d9d01c6f35')\"\n",
              "              title=\"Convert this dataframe to an interactive table.\"\n",
              "              style=\"display:none;\">\n",
              "        \n",
              "  <svg xmlns=\"http://www.w3.org/2000/svg\" height=\"24px\"viewBox=\"0 0 24 24\"\n",
              "       width=\"24px\">\n",
              "    <path d=\"M0 0h24v24H0V0z\" fill=\"none\"/>\n",
              "    <path d=\"M18.56 5.44l.94 2.06.94-2.06 2.06-.94-2.06-.94-.94-2.06-.94 2.06-2.06.94zm-11 1L8.5 8.5l.94-2.06 2.06-.94-2.06-.94L8.5 2.5l-.94 2.06-2.06.94zm10 10l.94 2.06.94-2.06 2.06-.94-2.06-.94-.94-2.06-.94 2.06-2.06.94z\"/><path d=\"M17.41 7.96l-1.37-1.37c-.4-.4-.92-.59-1.43-.59-.52 0-1.04.2-1.43.59L10.3 9.45l-7.72 7.72c-.78.78-.78 2.05 0 2.83L4 21.41c.39.39.9.59 1.41.59.51 0 1.02-.2 1.41-.59l7.78-7.78 2.81-2.81c.8-.78.8-2.07 0-2.86zM5.41 20L4 18.59l7.72-7.72 1.47 1.35L5.41 20z\"/>\n",
              "  </svg>\n",
              "      </button>\n",
              "      \n",
              "  <style>\n",
              "    .colab-df-container {\n",
              "      display:flex;\n",
              "      flex-wrap:wrap;\n",
              "      gap: 12px;\n",
              "    }\n",
              "\n",
              "    .colab-df-convert {\n",
              "      background-color: #E8F0FE;\n",
              "      border: none;\n",
              "      border-radius: 50%;\n",
              "      cursor: pointer;\n",
              "      display: none;\n",
              "      fill: #1967D2;\n",
              "      height: 32px;\n",
              "      padding: 0 0 0 0;\n",
              "      width: 32px;\n",
              "    }\n",
              "\n",
              "    .colab-df-convert:hover {\n",
              "      background-color: #E2EBFA;\n",
              "      box-shadow: 0px 1px 2px rgba(60, 64, 67, 0.3), 0px 1px 3px 1px rgba(60, 64, 67, 0.15);\n",
              "      fill: #174EA6;\n",
              "    }\n",
              "\n",
              "    [theme=dark] .colab-df-convert {\n",
              "      background-color: #3B4455;\n",
              "      fill: #D2E3FC;\n",
              "    }\n",
              "\n",
              "    [theme=dark] .colab-df-convert:hover {\n",
              "      background-color: #434B5C;\n",
              "      box-shadow: 0px 1px 3px 1px rgba(0, 0, 0, 0.15);\n",
              "      filter: drop-shadow(0px 1px 2px rgba(0, 0, 0, 0.3));\n",
              "      fill: #FFFFFF;\n",
              "    }\n",
              "  </style>\n",
              "\n",
              "      <script>\n",
              "        const buttonEl =\n",
              "          document.querySelector('#df-30f192d4-7091-41c4-b19a-58d9d01c6f35 button.colab-df-convert');\n",
              "        buttonEl.style.display =\n",
              "          google.colab.kernel.accessAllowed ? 'block' : 'none';\n",
              "\n",
              "        async function convertToInteractive(key) {\n",
              "          const element = document.querySelector('#df-30f192d4-7091-41c4-b19a-58d9d01c6f35');\n",
              "          const dataTable =\n",
              "            await google.colab.kernel.invokeFunction('convertToInteractive',\n",
              "                                                     [key], {});\n",
              "          if (!dataTable) return;\n",
              "\n",
              "          const docLinkHtml = 'Like what you see? Visit the ' +\n",
              "            '<a target=\"_blank\" href=https://colab.research.google.com/notebooks/data_table.ipynb>data table notebook</a>'\n",
              "            + ' to learn more about interactive tables.';\n",
              "          element.innerHTML = '';\n",
              "          dataTable['output_type'] = 'display_data';\n",
              "          await google.colab.output.renderOutput(dataTable, element);\n",
              "          const docLink = document.createElement('div');\n",
              "          docLink.innerHTML = docLinkHtml;\n",
              "          element.appendChild(docLink);\n",
              "        }\n",
              "      </script>\n",
              "    </div>\n",
              "  </div>\n",
              "  "
            ]
          },
          "metadata": {},
          "execution_count": 42
        }
      ]
    },
    {
      "cell_type": "code",
      "source": [
        "import matplotlib.pyplot as plt\n",
        "\n",
        "df.plot(kind='scatter', x='Rombongan Belajar', y='Guru')\n",
        "\n",
        "plt.title('pendidikan')\n",
        "plt.xlabel('Rombongan Belajar')\n",
        "plt.ylabel('indeks')\n",
        "plt.xlim(0,40)\n",
        "plt.ylim(0,50)\n",
        "plt.grid(True)\n",
        "plt.show()"
      ],
      "metadata": {
        "colab": {
          "base_uri": "https://localhost:8080/",
          "height": 295
        },
        "id": "YxhPhffEd7zY",
        "outputId": "507f915b-0ba5-4a77-bf7a-f53ba86e20fe"
      },
      "execution_count": 43,
      "outputs": [
        {
          "output_type": "display_data",
          "data": {
            "text/plain": [
              "<Figure size 432x288 with 1 Axes>"
            ],
            "image/png": "[encoded data removed]"
          },
          "metadata": {
            "needs_background": "light"
          }
        }
      ]
    },
    {
      "cell_type": "code",
      "source": [
        "import numpy as np\n",
        "x= np.array(df['Rombongan Belajar'])\n",
        "y= np.array(df['Guru'])\n",
        "\n",
        "print(f'x : {x}')\n",
        "print(f'y : {y}')"
      ],
      "metadata": {
        "colab": {
          "base_uri": "https://localhost:8080/"
        },
        "id": "392UNt2XeKDH",
        "outputId": "760a9d3e-dd9c-476d-9981-5638232bfffd"
      },
      "execution_count": 44,
      "outputs": [
        {
          "output_type": "stream",
          "name": "stdout",
          "text": [
            "x : [17 18 32  7 11 37 12 24 18 14 10 22 12 13  4  7  8  6 12 13  6  6  6]\n",
            "y : [18 24 38  9 11 47 16 26 24 17 11 29 15 12  4  4 10  9 14 17 14  8  2]\n"
          ]
        }
      ]
    },
    {
      "cell_type": "code",
      "source": [
        "x = x.reshape(-1, 1)\n",
        "x.shape"
      ],
      "metadata": {
        "colab": {
          "base_uri": "https://localhost:8080/"
        },
        "id": "0ngVxuOKecd7",
        "outputId": "c7af1a78-e3e0-4b8e-dacf-2c7adc784325"
      },
      "execution_count": 45,
      "outputs": [
        {
          "output_type": "execute_result",
          "data": {
            "text/plain": [
              "(23, 1)"
            ]
          },
          "metadata": {},
          "execution_count": 45
        }
      ]
    },
    {
      "cell_type": "code",
      "source": [
        "x"
      ],
      "metadata": {
        "colab": {
          "base_uri": "https://localhost:8080/"
        },
        "id": "U-dRYm6DekYa",
        "outputId": "14fd9eed-7a01-4b65-fe95-2d1f10c4a870"
      },
      "execution_count": 46,
      "outputs": [
        {
          "output_type": "execute_result",
          "data": {
            "text/plain": [
              "array([[17],\n",
              "       [18],\n",
              "       [32],\n",
              "       [ 7],\n",
              "       [11],\n",
              "       [37],\n",
              "       [12],\n",
              "       [24],\n",
              "       [18],\n",
              "       [14],\n",
              "       [10],\n",
              "       [22],\n",
              "       [12],\n",
              "       [13],\n",
              "       [ 4],\n",
              "       [ 7],\n",
              "       [ 8],\n",
              "       [ 6],\n",
              "       [12],\n",
              "       [13],\n",
              "       [ 6],\n",
              "       [ 6],\n",
              "       [ 6]])"
            ]
          },
          "metadata": {},
          "execution_count": 46
        }
      ]
    },
    {
      "cell_type": "code",
      "source": [
        "from sklearn.linear_model import LinearRegression\n",
        "\n",
        "model = LinearRegression()\n",
        "model.fit(x,y)\n"
      ],
      "metadata": {
        "colab": {
          "base_uri": "https://localhost:8080/"
        },
        "id": "1Hl4L_VzelIy",
        "outputId": "f39f54c2-5019-41f0-825e-0cb397d54b10"
      },
      "execution_count": 47,
      "outputs": [
        {
          "output_type": "execute_result",
          "data": {
            "text/plain": [
              "LinearRegression()"
            ]
          },
          "metadata": {},
          "execution_count": 47
        }
      ]
    },
    {
      "cell_type": "code",
      "source": [
        "x_vis = np.array([0,10000]).reshape(-1,1)\n",
        "y_vis = model.predict(x_vis)"
      ],
      "metadata": {
        "id": "cIWJpmAfenwS"
      },
      "execution_count": 48,
      "outputs": []
    },
    {
      "cell_type": "code",
      "source": [
        "plt.scatter(x,y)\n",
        "plt.plot(x_vis,y_vis, '-r')\n",
        "plt.title('pendidikan')\n",
        "plt.xlabel('Rombongan Belajar')\n",
        "plt.ylabel('indeks')\n",
        "plt.xlim(0,40)\n",
        "plt.ylim(0,50)\n",
        "plt.grid(True)\n",
        "plt.show()"
      ],
      "metadata": {
        "colab": {
          "base_uri": "https://localhost:8080/",
          "height": 295
        },
        "id": "7fByfgKZeqZj",
        "outputId": "d40d7612-a365-4701-8862-4ba0e3525f1c"
      },
      "execution_count": 49,
      "outputs": [
        {
          "output_type": "display_data",
          "data": {
            "text/plain": [
              "<Figure size 432x288 with 1 Axes>"
            ],
            "image/png": "[encoded data removed]"
          },
          "metadata": {
            "needs_background": "light"
          }
        }
      ]
    },
    {
      "cell_type": "code",
      "source": [
        "df['Peserta Didik'].sum()"
      ],
      "metadata": {
        "colab": {
          "base_uri": "https://localhost:8080/"
        },
        "id": "qlfymUKf7kOu",
        "outputId": "8c578a83-dbed-4eb3-ee3d-be84d78d6340"
      },
      "execution_count": 50,
      "outputs": [
        {
          "output_type": "execute_result",
          "data": {
            "text/plain": [
              "8505"
            ]
          },
          "metadata": {},
          "execution_count": 50
        }
      ]
    },
    {
      "cell_type": "code",
      "source": [
        "df['Rombongan Belajar'].sum()"
      ],
      "metadata": {
        "colab": {
          "base_uri": "https://localhost:8080/"
        },
        "id": "8sxWakWdAsY1",
        "outputId": "e2db95a1-d017-4113-8183-d60bd22caf5a"
      },
      "execution_count": 51,
      "outputs": [
        {
          "output_type": "execute_result",
          "data": {
            "text/plain": [
              "315"
            ]
          },
          "metadata": {},
          "execution_count": 51
        }
      ]
    },
    {
      "cell_type": "code",
      "source": [
        "df['Guru'].sum()"
      ],
      "metadata": {
        "colab": {
          "base_uri": "https://localhost:8080/"
        },
        "id": "_LaqmzqMA3bG",
        "outputId": "53a5c3e4-ffa5-44ad-b57d-63d66224352c"
      },
      "execution_count": 52,
      "outputs": [
        {
          "output_type": "execute_result",
          "data": {
            "text/plain": [
              "379"
            ]
          },
          "metadata": {},
          "execution_count": 52
        }
      ]
    },
    {
      "cell_type": "code",
      "source": [
        "df['Pegawai'].sum()"
      ],
      "metadata": {
        "colab": {
          "base_uri": "https://localhost:8080/"
        },
        "id": "0cdWLErdA88q",
        "outputId": "23cf7bb7-33d9-4bbf-e1f2-d40e00a5c752"
      },
      "execution_count": 53,
      "outputs": [
        {
          "output_type": "execute_result",
          "data": {
            "text/plain": [
              "89"
            ]
          },
          "metadata": {},
          "execution_count": 53
        }
      ]
    },
    {
      "cell_type": "code",
      "source": [
        "df['R. Kelas'].sum"
      ],
      "metadata": {
        "colab": {
          "base_uri": "https://localhost:8080/"
        },
        "id": "cDFmRU64BQXr",
        "outputId": "881ea9a1-e77d-479d-e92c-16c5e761df75"
      },
      "execution_count": 54,
      "outputs": [
        {
          "output_type": "execute_result",
          "data": {
            "text/plain": [
              "<bound method NDFrame._add_numeric_operations.<locals>.sum of 0      9\n",
              "1     15\n",
              "2     18\n",
              "3      7\n",
              "4      8\n",
              "5     18\n",
              "6     12\n",
              "7     30\n",
              "8     18\n",
              "9      7\n",
              "10     8\n",
              "11    12\n",
              "12    11\n",
              "13     6\n",
              "14     6\n",
              "15     7\n",
              "16     8\n",
              "17     6\n",
              "18    12\n",
              "19    13\n",
              "20     6\n",
              "21     5\n",
              "22     6\n",
              "Name: R. Kelas, dtype: int64>"
            ]
          },
          "metadata": {},
          "execution_count": 54
        }
      ]
    },
    {
      "cell_type": "code",
      "source": [
        "df['R. Lab'].sum"
      ],
      "metadata": {
        "colab": {
          "base_uri": "https://localhost:8080/"
        },
        "id": "SMN9Z_duBdk5",
        "outputId": "f5b229ee-adc2-4d23-d161-bd533d115dc4"
      },
      "execution_count": 55,
      "outputs": [
        {
          "output_type": "execute_result",
          "data": {
            "text/plain": [
              "<bound method NDFrame._add_numeric_operations.<locals>.sum of 0     0\n",
              "1     0\n",
              "2     0\n",
              "3     0\n",
              "4     0\n",
              "5     0\n",
              "6     0\n",
              "7     0\n",
              "8     0\n",
              "9     0\n",
              "10    0\n",
              "11    1\n",
              "12    1\n",
              "13    0\n",
              "14    1\n",
              "15    0\n",
              "16    1\n",
              "17    1\n",
              "18    2\n",
              "19    0\n",
              "20    0\n",
              "21    0\n",
              "22    0\n",
              "Name: R. Lab, dtype: int64>"
            ]
          },
          "metadata": {},
          "execution_count": 55
        }
      ]
    },
    {
      "cell_type": "code",
      "source": [
        "df['R. Perpus'].sum"
      ],
      "metadata": {
        "colab": {
          "base_uri": "https://localhost:8080/"
        },
        "id": "ai_SPU2tBmuW",
        "outputId": "63d108f2-7fd3-4532-e1de-7d26fdc3febe"
      },
      "execution_count": 56,
      "outputs": [
        {
          "output_type": "execute_result",
          "data": {
            "text/plain": [
              "<bound method NDFrame._add_numeric_operations.<locals>.sum of 0     1\n",
              "1     1\n",
              "2     1\n",
              "3     1\n",
              "4     1\n",
              "5     1\n",
              "6     1\n",
              "7     4\n",
              "8     1\n",
              "9     1\n",
              "10    0\n",
              "11    1\n",
              "12    1\n",
              "13    1\n",
              "14    1\n",
              "15    1\n",
              "16    1\n",
              "17    1\n",
              "18    1\n",
              "19    1\n",
              "20    1\n",
              "21    1\n",
              "22    0\n",
              "Name: R. Perpus, dtype: int64>"
            ]
          },
          "metadata": {},
          "execution_count": 56
        }
      ]
    },
    {
      "cell_type": "code",
      "source": [
        "import matplotlib.pyplot as plt\n",
        "\n",
        "fig = plt.figure()\n",
        "ax = fig.add_axes([0,0,1,1])\n",
        "usa = ['Peserta Didik','Rombongan Belajar','Guru','Pegawai','R Kelas','R Lab','R Perpus']\n",
        "orl = [8505,315,379,89,249,7,24]\n",
        "c = ['orange','yellow', 'blue']\n",
        "plt.title(\"pendidikan\")\n",
        "ax.bar(usa,orl, color=c)\n",
        "plt.show()\n",
        "print()\n",
        "import matplotlib.pyplot as plt\n",
        "\n",
        "fig = plt.figure()\n",
        "ax = fig.add_axes([0,0,1,1])\n",
        "ax.axis('equal')\n",
        "plt.title('pendidikan')\n",
        "jurusa=['Peserta Didik','Rombongan Belajar','Guru','Pegawai','R Kelas','R Lab','R Perpus']\n",
        "orll = [8505,315,379,89,249,7,24]\n",
        "ax.pie(orll,labels=jurusa,autopct='%1.2f%%')\n",
        "\n",
        "plt.show()"
      ],
      "metadata": {
        "colab": {
          "base_uri": "https://localhost:8080/",
          "height": 688
        },
        "id": "LFpK9X-tDZY4",
        "outputId": "35182a46-6d3d-4996-8ad2-c44630fa0517"
      },
      "execution_count": 57,
      "outputs": [
        {
          "output_type": "display_data",
          "data": {
            "text/plain": [
              "<Figure size 432x288 with 1 Axes>"
            ],
            "image/png": "[encoded data removed]"
          },
          "metadata": {
            "needs_background": "light"
          }
        },
        {
          "output_type": "stream",
          "name": "stdout",
          "text": [
            "\n"
          ]
        },
        {
          "output_type": "display_data",
          "data": {
            "text/plain": [
              "<Figure size 432x288 with 1 Axes>"
            ],
            "image/png": "[encoded data removed]"
          },
          "metadata": {}
        }
      ]
    },
    {
      "cell_type": "code",
      "source": [
        "print(f'interceft : {model.intercept_}')\n",
        "print(f'slope : {model.coef_}')"
      ],
      "metadata": {
        "colab": {
          "base_uri": "https://localhost:8080/"
        },
        "id": "V81HkaOxPMky",
        "outputId": "47c895a0-a524-4333-c245-16c678925a8e"
      },
      "execution_count": 58,
      "outputs": [
        {
          "output_type": "stream",
          "name": "stdout",
          "text": [
            "interceft : -0.52257763634368\n",
            "slope : [1.24133107]\n"
          ]
        }
      ]
    },
    {
      "cell_type": "code",
      "source": [
        "Rombeng = np.array([13,17,27,32,51]).reshape(-1,1)\n",
        "Rombeng"
      ],
      "metadata": {
        "colab": {
          "base_uri": "https://localhost:8080/"
        },
        "id": "E_JroKSgYi-y",
        "outputId": "3fa7533e-74d7-4a0e-cadc-0b33f88a4e01"
      },
      "execution_count": 59,
      "outputs": [
        {
          "output_type": "execute_result",
          "data": {
            "text/plain": [
              "array([[13],\n",
              "       [17],\n",
              "       [27],\n",
              "       [32],\n",
              "       [51]])"
            ]
          },
          "metadata": {},
          "execution_count": 59
        }
      ]
    },
    {
      "cell_type": "code",
      "source": [
        "prediksi_indeks = model.predict(Rombeng)\n",
        "prediksi_indeks"
      ],
      "metadata": {
        "colab": {
          "base_uri": "https://localhost:8080/"
        },
        "id": "DJp-5-YcZPb5",
        "outputId": "4cbf28fd-1e6f-4ae5-857e-361233e4d9e0"
      },
      "execution_count": 60,
      "outputs": [
        {
          "output_type": "execute_result",
          "data": {
            "text/plain": [
              "array([15.61472622, 20.58005048, 32.99336113, 39.20001646, 62.7853067 ])"
            ]
          },
          "metadata": {},
          "execution_count": 60
        }
      ]
    },
    {
      "cell_type": "code",
      "source": [
        "for penduduk, index in zip(Rombeng, prediksi_indeks):\n",
        "  print(f'Rombeng : {penduduk} prediksi : {index}')"
      ],
      "metadata": {
        "colab": {
          "base_uri": "https://localhost:8080/"
        },
        "id": "yYvbee-FZneJ",
        "outputId": "eaa64e0d-87ad-44df-c944-1d105bc7ffae"
      },
      "execution_count": 61,
      "outputs": [
        {
          "output_type": "stream",
          "name": "stdout",
          "text": [
            "Rombeng : [13] prediksi : 15.61472621529683\n",
            "Rombeng : [17] prediksi : 20.580050477340066\n",
            "Rombeng : [27] prediksi : 32.99336113244814\n",
            "Rombeng : [32] prediksi : 39.20001646000219\n",
            "Rombeng : [51] prediksi : 62.78530670470755\n"
          ]
        }
      ]
    }
  ]
}