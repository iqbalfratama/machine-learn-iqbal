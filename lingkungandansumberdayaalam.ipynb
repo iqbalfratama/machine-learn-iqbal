{
  "nbformat": 4,
  "nbformat_minor": 0,
  "metadata": {
    "colab": {
      "provenance": []
    },
    "kernelspec": {
      "name": "python3",
      "display_name": "Python 3"
    },
    "language_info": {
      "name": "python"
    }
  },
  "cells": [
    {
      "cell_type": "code",
      "execution_count": 21,
      "metadata": {
        "colab": {
          "base_uri": "https://localhost:8080/"
        },
        "id": "unl4UQAOjsr1",
        "outputId": "bfad141c-5408-46e4-bc4c-0be02562ae76"
      },
      "outputs": [
        {
          "output_type": "stream",
          "name": "stdout",
          "text": [
            "Drive already mounted at /content/drive; to attempt to forcibly remount, call drive.mount(\"/content/drive\", force_remount=True).\n"
          ]
        }
      ],
      "source": [
        "import pandas as pd\n",
        "from google.colab import drive \n",
        "drive.mount('/content/drive')"
      ]
    },
    {
      "cell_type": "code",
      "source": [
        "path = '/content/drive/MyDrive/CSV/dudumh - Sheet1.csv'\n",
        "df = pd.read_csv(path)\n",
        "df.describe()"
      ],
      "metadata": {
        "colab": {
          "base_uri": "https://localhost:8080/",
          "height": 300
        },
        "id": "3O8f7f898MPg",
        "outputId": "bc68f151-a7ed-4b15-acc4-650b40e958e8"
      },
      "execution_count": 22,
      "outputs": [
        {
          "output_type": "execute_result",
          "data": {
            "text/plain": [
              "            pm10        so2         co         o3        no2        max\n",
              "count  25.000000  25.000000  25.000000  25.000000  25.000000  25.000000\n",
              "mean   38.920000  45.520000  29.680000  55.320000  12.880000  56.920000\n",
              "std    11.067671   9.350223   3.923434  16.547205   5.585099  15.981552\n",
              "min    25.000000  29.000000  25.000000  31.000000   5.000000  31.000000\n",
              "25%    31.000000  35.000000  27.000000  45.000000   7.000000  50.000000\n",
              "50%    37.000000  51.000000  29.000000  50.000000  12.000000  52.000000\n",
              "75%    41.000000  52.000000  31.000000  59.000000  18.000000  63.000000\n",
              "max    72.000000  52.000000  38.000000  95.000000  23.000000  95.000000"
            ],
            "text/html": [
              "\n",
              "  <div id=\"df-dc5fabe2-4eba-4519-97d2-35d9af8ea6eb\">\n",
              "    <div class=\"colab-df-container\">\n",
              "      <div>\n",
              "<style scoped>\n",
              "    .dataframe tbody tr th:only-of-type {\n",
              "        vertical-align: middle;\n",
              "    }\n",
              "\n",
              "    .dataframe tbody tr th {\n",
              "        vertical-align: top;\n",
              "    }\n",
              "\n",
              "    .dataframe thead th {\n",
              "        text-align: right;\n",
              "    }\n",
              "</style>\n",
              "<table border=\"1\" class=\"dataframe\">\n",
              "  <thead>\n",
              "    <tr style=\"text-align: right;\">\n",
              "      <th></th>\n",
              "      <th>pm10</th>\n",
              "      <th>so2</th>\n",
              "      <th>co</th>\n",
              "      <th>o3</th>\n",
              "      <th>no2</th>\n",
              "      <th>max</th>\n",
              "    </tr>\n",
              "  </thead>\n",
              "  <tbody>\n",
              "    <tr>\n",
              "      <th>count</th>\n",
              "      <td>25.000000</td>\n",
              "      <td>25.000000</td>\n",
              "      <td>25.000000</td>\n",
              "      <td>25.000000</td>\n",
              "      <td>25.000000</td>\n",
              "      <td>25.000000</td>\n",
              "    </tr>\n",
              "    <tr>\n",
              "      <th>mean</th>\n",
              "      <td>38.920000</td>\n",
              "      <td>45.520000</td>\n",
              "      <td>29.680000</td>\n",
              "      <td>55.320000</td>\n",
              "      <td>12.880000</td>\n",
              "      <td>56.920000</td>\n",
              "    </tr>\n",
              "    <tr>\n",
              "      <th>std</th>\n",
              "      <td>11.067671</td>\n",
              "      <td>9.350223</td>\n",
              "      <td>3.923434</td>\n",
              "      <td>16.547205</td>\n",
              "      <td>5.585099</td>\n",
              "      <td>15.981552</td>\n",
              "    </tr>\n",
              "    <tr>\n",
              "      <th>min</th>\n",
              "      <td>25.000000</td>\n",
              "      <td>29.000000</td>\n",
              "      <td>25.000000</td>\n",
              "      <td>31.000000</td>\n",
              "      <td>5.000000</td>\n",
              "      <td>31.000000</td>\n",
              "    </tr>\n",
              "    <tr>\n",
              "      <th>25%</th>\n",
              "      <td>31.000000</td>\n",
              "      <td>35.000000</td>\n",
              "      <td>27.000000</td>\n",
              "      <td>45.000000</td>\n",
              "      <td>7.000000</td>\n",
              "      <td>50.000000</td>\n",
              "    </tr>\n",
              "    <tr>\n",
              "      <th>50%</th>\n",
              "      <td>37.000000</td>\n",
              "      <td>51.000000</td>\n",
              "      <td>29.000000</td>\n",
              "      <td>50.000000</td>\n",
              "      <td>12.000000</td>\n",
              "      <td>52.000000</td>\n",
              "    </tr>\n",
              "    <tr>\n",
              "      <th>75%</th>\n",
              "      <td>41.000000</td>\n",
              "      <td>52.000000</td>\n",
              "      <td>31.000000</td>\n",
              "      <td>59.000000</td>\n",
              "      <td>18.000000</td>\n",
              "      <td>63.000000</td>\n",
              "    </tr>\n",
              "    <tr>\n",
              "      <th>max</th>\n",
              "      <td>72.000000</td>\n",
              "      <td>52.000000</td>\n",
              "      <td>38.000000</td>\n",
              "      <td>95.000000</td>\n",
              "      <td>23.000000</td>\n",
              "      <td>95.000000</td>\n",
              "    </tr>\n",
              "  </tbody>\n",
              "</table>\n",
              "</div>\n",
              "      <button class=\"colab-df-convert\" onclick=\"convertToInteractive('df-dc5fabe2-4eba-4519-97d2-35d9af8ea6eb')\"\n",
              "              title=\"Convert this dataframe to an interactive table.\"\n",
              "              style=\"display:none;\">\n",
              "        \n",
              "  <svg xmlns=\"http://www.w3.org/2000/svg\" height=\"24px\"viewBox=\"0 0 24 24\"\n",
              "       width=\"24px\">\n",
              "    <path d=\"M0 0h24v24H0V0z\" fill=\"none\"/>\n",
              "    <path d=\"M18.56 5.44l.94 2.06.94-2.06 2.06-.94-2.06-.94-.94-2.06-.94 2.06-2.06.94zm-11 1L8.5 8.5l.94-2.06 2.06-.94-2.06-.94L8.5 2.5l-.94 2.06-2.06.94zm10 10l.94 2.06.94-2.06 2.06-.94-2.06-.94-.94-2.06-.94 2.06-2.06.94z\"/><path d=\"M17.41 7.96l-1.37-1.37c-.4-.4-.92-.59-1.43-.59-.52 0-1.04.2-1.43.59L10.3 9.45l-7.72 7.72c-.78.78-.78 2.05 0 2.83L4 21.41c.39.39.9.59 1.41.59.51 0 1.02-.2 1.41-.59l7.78-7.78 2.81-2.81c.8-.78.8-2.07 0-2.86zM5.41 20L4 18.59l7.72-7.72 1.47 1.35L5.41 20z\"/>\n",
              "  </svg>\n",
              "      </button>\n",
              "      \n",
              "  <style>\n",
              "    .colab-df-container {\n",
              "      display:flex;\n",
              "      flex-wrap:wrap;\n",
              "      gap: 12px;\n",
              "    }\n",
              "\n",
              "    .colab-df-convert {\n",
              "      background-color: #E8F0FE;\n",
              "      border: none;\n",
              "      border-radius: 50%;\n",
              "      cursor: pointer;\n",
              "      display: none;\n",
              "      fill: #1967D2;\n",
              "      height: 32px;\n",
              "      padding: 0 0 0 0;\n",
              "      width: 32px;\n",
              "    }\n",
              "\n",
              "    .colab-df-convert:hover {\n",
              "      background-color: #E2EBFA;\n",
              "      box-shadow: 0px 1px 2px rgba(60, 64, 67, 0.3), 0px 1px 3px 1px rgba(60, 64, 67, 0.15);\n",
              "      fill: #174EA6;\n",
              "    }\n",
              "\n",
              "    [theme=dark] .colab-df-convert {\n",
              "      background-color: #3B4455;\n",
              "      fill: #D2E3FC;\n",
              "    }\n",
              "\n",
              "    [theme=dark] .colab-df-convert:hover {\n",
              "      background-color: #434B5C;\n",
              "      box-shadow: 0px 1px 3px 1px rgba(0, 0, 0, 0.15);\n",
              "      filter: drop-shadow(0px 1px 2px rgba(0, 0, 0, 0.3));\n",
              "      fill: #FFFFFF;\n",
              "    }\n",
              "  </style>\n",
              "\n",
              "      <script>\n",
              "        const buttonEl =\n",
              "          document.querySelector('#df-dc5fabe2-4eba-4519-97d2-35d9af8ea6eb button.colab-df-convert');\n",
              "        buttonEl.style.display =\n",
              "          google.colab.kernel.accessAllowed ? 'block' : 'none';\n",
              "\n",
              "        async function convertToInteractive(key) {\n",
              "          const element = document.querySelector('#df-dc5fabe2-4eba-4519-97d2-35d9af8ea6eb');\n",
              "          const dataTable =\n",
              "            await google.colab.kernel.invokeFunction('convertToInteractive',\n",
              "                                                     [key], {});\n",
              "          if (!dataTable) return;\n",
              "\n",
              "          const docLinkHtml = 'Like what you see? Visit the ' +\n",
              "            '<a target=\"_blank\" href=https://colab.research.google.com/notebooks/data_table.ipynb>data table notebook</a>'\n",
              "            + ' to learn more about interactive tables.';\n",
              "          element.innerHTML = '';\n",
              "          dataTable['output_type'] = 'display_data';\n",
              "          await google.colab.output.renderOutput(dataTable, element);\n",
              "          const docLink = document.createElement('div');\n",
              "          docLink.innerHTML = docLinkHtml;\n",
              "          element.appendChild(docLink);\n",
              "        }\n",
              "      </script>\n",
              "    </div>\n",
              "  </div>\n",
              "  "
            ]
          },
          "metadata": {},
          "execution_count": 22
        }
      ]
    },
    {
      "cell_type": "code",
      "source": [
        "df"
      ],
      "metadata": {
        "colab": {
          "base_uri": "https://localhost:8080/",
          "height": 833
        },
        "id": "_DGBkSrw8cmD",
        "outputId": "43c73b12-f2ba-49a4-b0bf-cdad72a3e67f"
      },
      "execution_count": 23,
      "outputs": [
        {
          "output_type": "execute_result",
          "data": {
            "text/plain": [
              "       tanggal  pm10  so2  co  o3  no2  max critical categori lokasi_spku\n",
              "0   2017-12-03    39   49  31  43    7   49      SO2     BAIK        DKI2\n",
              "1   2017-12-04    30   50  25  43    5   50      SO2     BAIK        DKI2\n",
              "2   2017-12-05    37   50  27  50    7   50      SO2     BAIK        DKI2\n",
              "3   2017-12-06    43   51  29  95   21   95       O3   SEDANG        DKI2\n",
              "4   2017-12-07    43   51  29  77   21   77       O3   SEDANG        DKI3\n",
              "5   2017-12-08    41   51  27  77   19   77       O3   SEDANG        DKI3\n",
              "6   2017-12-09    25   51  29  73   14   73       O3   SEDANG        DKI3\n",
              "7   2017-12-14    35   51  28  59   23   59       O3   SEDANG        DKI3\n",
              "8   2017-12-15    41   51  27  47   18   51      SO2   SEDANG        DKI2\n",
              "9   2017-12-16    63   51  38  50   18   63     PM10   SEDANG        DKI4\n",
              "10  2017-12-17    33   51  31  45   11   51      SO2   SEDANG        DKI2\n",
              "11  2017-12-20    39   52  31  50   12   52      SO2   SEDANG        DKI2\n",
              "12  2017-12-21    37   52  28  53   15   53       O3   SEDANG        DKI3\n",
              "13  2017-12-22    29   52  37  52   12   52      SO2   SEDANG        DKI2\n",
              "14  2017-12-25    30   29  26  31    5   31       O3     BAIK        DKI2\n",
              "15  2017-12-30    60   34  31  81   15   81       O3   SEDANG        DKI3\n",
              "16  2017-12-28    31   30  26  48   18   48       O3     BAIK        DKI4\n",
              "17  2017-12-29    72   35  38  84   16   84       O3   SEDANG        DKI3\n",
              "18  2017-12-26    38   30  26  40    5   40       O3     BAIK        DKI3\n",
              "19  2017-12-24    38   30  29  43    7   43       O3     BAIK        DKI2\n",
              "20  2017-12-25    30   29  26  31    5   31       O3     BAIK        DKI2\n",
              "21  2017-12-20    39   52  31  50   12   52      SO2   SEDANG        DKI2\n",
              "22  2017-12-21    37   52  28  53   15   53       O3   SEDANG        DKI3\n",
              "23  2017-12-22    29   52  37  52   12   52      SO2   SEDANG        DKI2\n",
              "24  2017-12-23    34   52  27  56    9   56       O3   SEDANG        DKI2"
            ],
            "text/html": [
              "\n",
              "  <div id=\"df-7710e9e7-838f-493f-975b-d17348b63b7a\">\n",
              "    <div class=\"colab-df-container\">\n",
              "      <div>\n",
              "<style scoped>\n",
              "    .dataframe tbody tr th:only-of-type {\n",
              "        vertical-align: middle;\n",
              "    }\n",
              "\n",
              "    .dataframe tbody tr th {\n",
              "        vertical-align: top;\n",
              "    }\n",
              "\n",
              "    .dataframe thead th {\n",
              "        text-align: right;\n",
              "    }\n",
              "</style>\n",
              "<table border=\"1\" class=\"dataframe\">\n",
              "  <thead>\n",
              "    <tr style=\"text-align: right;\">\n",
              "      <th></th>\n",
              "      <th>tanggal</th>\n",
              "      <th>pm10</th>\n",
              "      <th>so2</th>\n",
              "      <th>co</th>\n",
              "      <th>o3</th>\n",
              "      <th>no2</th>\n",
              "      <th>max</th>\n",
              "      <th>critical</th>\n",
              "      <th>categori</th>\n",
              "      <th>lokasi_spku</th>\n",
              "    </tr>\n",
              "  </thead>\n",
              "  <tbody>\n",
              "    <tr>\n",
              "      <th>0</th>\n",
              "      <td>2017-12-03</td>\n",
              "      <td>39</td>\n",
              "      <td>49</td>\n",
              "      <td>31</td>\n",
              "      <td>43</td>\n",
              "      <td>7</td>\n",
              "      <td>49</td>\n",
              "      <td>SO2</td>\n",
              "      <td>BAIK</td>\n",
              "      <td>DKI2</td>\n",
              "    </tr>\n",
              "    <tr>\n",
              "      <th>1</th>\n",
              "      <td>2017-12-04</td>\n",
              "      <td>30</td>\n",
              "      <td>50</td>\n",
              "      <td>25</td>\n",
              "      <td>43</td>\n",
              "      <td>5</td>\n",
              "      <td>50</td>\n",
              "      <td>SO2</td>\n",
              "      <td>BAIK</td>\n",
              "      <td>DKI2</td>\n",
              "    </tr>\n",
              "    <tr>\n",
              "      <th>2</th>\n",
              "      <td>2017-12-05</td>\n",
              "      <td>37</td>\n",
              "      <td>50</td>\n",
              "      <td>27</td>\n",
              "      <td>50</td>\n",
              "      <td>7</td>\n",
              "      <td>50</td>\n",
              "      <td>SO2</td>\n",
              "      <td>BAIK</td>\n",
              "      <td>DKI2</td>\n",
              "    </tr>\n",
              "    <tr>\n",
              "      <th>3</th>\n",
              "      <td>2017-12-06</td>\n",
              "      <td>43</td>\n",
              "      <td>51</td>\n",
              "      <td>29</td>\n",
              "      <td>95</td>\n",
              "      <td>21</td>\n",
              "      <td>95</td>\n",
              "      <td>O3</td>\n",
              "      <td>SEDANG</td>\n",
              "      <td>DKI2</td>\n",
              "    </tr>\n",
              "    <tr>\n",
              "      <th>4</th>\n",
              "      <td>2017-12-07</td>\n",
              "      <td>43</td>\n",
              "      <td>51</td>\n",
              "      <td>29</td>\n",
              "      <td>77</td>\n",
              "      <td>21</td>\n",
              "      <td>77</td>\n",
              "      <td>O3</td>\n",
              "      <td>SEDANG</td>\n",
              "      <td>DKI3</td>\n",
              "    </tr>\n",
              "    <tr>\n",
              "      <th>5</th>\n",
              "      <td>2017-12-08</td>\n",
              "      <td>41</td>\n",
              "      <td>51</td>\n",
              "      <td>27</td>\n",
              "      <td>77</td>\n",
              "      <td>19</td>\n",
              "      <td>77</td>\n",
              "      <td>O3</td>\n",
              "      <td>SEDANG</td>\n",
              "      <td>DKI3</td>\n",
              "    </tr>\n",
              "    <tr>\n",
              "      <th>6</th>\n",
              "      <td>2017-12-09</td>\n",
              "      <td>25</td>\n",
              "      <td>51</td>\n",
              "      <td>29</td>\n",
              "      <td>73</td>\n",
              "      <td>14</td>\n",
              "      <td>73</td>\n",
              "      <td>O3</td>\n",
              "      <td>SEDANG</td>\n",
              "      <td>DKI3</td>\n",
              "    </tr>\n",
              "    <tr>\n",
              "      <th>7</th>\n",
              "      <td>2017-12-14</td>\n",
              "      <td>35</td>\n",
              "      <td>51</td>\n",
              "      <td>28</td>\n",
              "      <td>59</td>\n",
              "      <td>23</td>\n",
              "      <td>59</td>\n",
              "      <td>O3</td>\n",
              "      <td>SEDANG</td>\n",
              "      <td>DKI3</td>\n",
              "    </tr>\n",
              "    <tr>\n",
              "      <th>8</th>\n",
              "      <td>2017-12-15</td>\n",
              "      <td>41</td>\n",
              "      <td>51</td>\n",
              "      <td>27</td>\n",
              "      <td>47</td>\n",
              "      <td>18</td>\n",
              "      <td>51</td>\n",
              "      <td>SO2</td>\n",
              "      <td>SEDANG</td>\n",
              "      <td>DKI2</td>\n",
              "    </tr>\n",
              "    <tr>\n",
              "      <th>9</th>\n",
              "      <td>2017-12-16</td>\n",
              "      <td>63</td>\n",
              "      <td>51</td>\n",
              "      <td>38</td>\n",
              "      <td>50</td>\n",
              "      <td>18</td>\n",
              "      <td>63</td>\n",
              "      <td>PM10</td>\n",
              "      <td>SEDANG</td>\n",
              "      <td>DKI4</td>\n",
              "    </tr>\n",
              "    <tr>\n",
              "      <th>10</th>\n",
              "      <td>2017-12-17</td>\n",
              "      <td>33</td>\n",
              "      <td>51</td>\n",
              "      <td>31</td>\n",
              "      <td>45</td>\n",
              "      <td>11</td>\n",
              "      <td>51</td>\n",
              "      <td>SO2</td>\n",
              "      <td>SEDANG</td>\n",
              "      <td>DKI2</td>\n",
              "    </tr>\n",
              "    <tr>\n",
              "      <th>11</th>\n",
              "      <td>2017-12-20</td>\n",
              "      <td>39</td>\n",
              "      <td>52</td>\n",
              "      <td>31</td>\n",
              "      <td>50</td>\n",
              "      <td>12</td>\n",
              "      <td>52</td>\n",
              "      <td>SO2</td>\n",
              "      <td>SEDANG</td>\n",
              "      <td>DKI2</td>\n",
              "    </tr>\n",
              "    <tr>\n",
              "      <th>12</th>\n",
              "      <td>2017-12-21</td>\n",
              "      <td>37</td>\n",
              "      <td>52</td>\n",
              "      <td>28</td>\n",
              "      <td>53</td>\n",
              "      <td>15</td>\n",
              "      <td>53</td>\n",
              "      <td>O3</td>\n",
              "      <td>SEDANG</td>\n",
              "      <td>DKI3</td>\n",
              "    </tr>\n",
              "    <tr>\n",
              "      <th>13</th>\n",
              "      <td>2017-12-22</td>\n",
              "      <td>29</td>\n",
              "      <td>52</td>\n",
              "      <td>37</td>\n",
              "      <td>52</td>\n",
              "      <td>12</td>\n",
              "      <td>52</td>\n",
              "      <td>SO2</td>\n",
              "      <td>SEDANG</td>\n",
              "      <td>DKI2</td>\n",
              "    </tr>\n",
              "    <tr>\n",
              "      <th>14</th>\n",
              "      <td>2017-12-25</td>\n",
              "      <td>30</td>\n",
              "      <td>29</td>\n",
              "      <td>26</td>\n",
              "      <td>31</td>\n",
              "      <td>5</td>\n",
              "      <td>31</td>\n",
              "      <td>O3</td>\n",
              "      <td>BAIK</td>\n",
              "      <td>DKI2</td>\n",
              "    </tr>\n",
              "    <tr>\n",
              "      <th>15</th>\n",
              "      <td>2017-12-30</td>\n",
              "      <td>60</td>\n",
              "      <td>34</td>\n",
              "      <td>31</td>\n",
              "      <td>81</td>\n",
              "      <td>15</td>\n",
              "      <td>81</td>\n",
              "      <td>O3</td>\n",
              "      <td>SEDANG</td>\n",
              "      <td>DKI3</td>\n",
              "    </tr>\n",
              "    <tr>\n",
              "      <th>16</th>\n",
              "      <td>2017-12-28</td>\n",
              "      <td>31</td>\n",
              "      <td>30</td>\n",
              "      <td>26</td>\n",
              "      <td>48</td>\n",
              "      <td>18</td>\n",
              "      <td>48</td>\n",
              "      <td>O3</td>\n",
              "      <td>BAIK</td>\n",
              "      <td>DKI4</td>\n",
              "    </tr>\n",
              "    <tr>\n",
              "      <th>17</th>\n",
              "      <td>2017-12-29</td>\n",
              "      <td>72</td>\n",
              "      <td>35</td>\n",
              "      <td>38</td>\n",
              "      <td>84</td>\n",
              "      <td>16</td>\n",
              "      <td>84</td>\n",
              "      <td>O3</td>\n",
              "      <td>SEDANG</td>\n",
              "      <td>DKI3</td>\n",
              "    </tr>\n",
              "    <tr>\n",
              "      <th>18</th>\n",
              "      <td>2017-12-26</td>\n",
              "      <td>38</td>\n",
              "      <td>30</td>\n",
              "      <td>26</td>\n",
              "      <td>40</td>\n",
              "      <td>5</td>\n",
              "      <td>40</td>\n",
              "      <td>O3</td>\n",
              "      <td>BAIK</td>\n",
              "      <td>DKI3</td>\n",
              "    </tr>\n",
              "    <tr>\n",
              "      <th>19</th>\n",
              "      <td>2017-12-24</td>\n",
              "      <td>38</td>\n",
              "      <td>30</td>\n",
              "      <td>29</td>\n",
              "      <td>43</td>\n",
              "      <td>7</td>\n",
              "      <td>43</td>\n",
              "      <td>O3</td>\n",
              "      <td>BAIK</td>\n",
              "      <td>DKI2</td>\n",
              "    </tr>\n",
              "    <tr>\n",
              "      <th>20</th>\n",
              "      <td>2017-12-25</td>\n",
              "      <td>30</td>\n",
              "      <td>29</td>\n",
              "      <td>26</td>\n",
              "      <td>31</td>\n",
              "      <td>5</td>\n",
              "      <td>31</td>\n",
              "      <td>O3</td>\n",
              "      <td>BAIK</td>\n",
              "      <td>DKI2</td>\n",
              "    </tr>\n",
              "    <tr>\n",
              "      <th>21</th>\n",
              "      <td>2017-12-20</td>\n",
              "      <td>39</td>\n",
              "      <td>52</td>\n",
              "      <td>31</td>\n",
              "      <td>50</td>\n",
              "      <td>12</td>\n",
              "      <td>52</td>\n",
              "      <td>SO2</td>\n",
              "      <td>SEDANG</td>\n",
              "      <td>DKI2</td>\n",
              "    </tr>\n",
              "    <tr>\n",
              "      <th>22</th>\n",
              "      <td>2017-12-21</td>\n",
              "      <td>37</td>\n",
              "      <td>52</td>\n",
              "      <td>28</td>\n",
              "      <td>53</td>\n",
              "      <td>15</td>\n",
              "      <td>53</td>\n",
              "      <td>O3</td>\n",
              "      <td>SEDANG</td>\n",
              "      <td>DKI3</td>\n",
              "    </tr>\n",
              "    <tr>\n",
              "      <th>23</th>\n",
              "      <td>2017-12-22</td>\n",
              "      <td>29</td>\n",
              "      <td>52</td>\n",
              "      <td>37</td>\n",
              "      <td>52</td>\n",
              "      <td>12</td>\n",
              "      <td>52</td>\n",
              "      <td>SO2</td>\n",
              "      <td>SEDANG</td>\n",
              "      <td>DKI2</td>\n",
              "    </tr>\n",
              "    <tr>\n",
              "      <th>24</th>\n",
              "      <td>2017-12-23</td>\n",
              "      <td>34</td>\n",
              "      <td>52</td>\n",
              "      <td>27</td>\n",
              "      <td>56</td>\n",
              "      <td>9</td>\n",
              "      <td>56</td>\n",
              "      <td>O3</td>\n",
              "      <td>SEDANG</td>\n",
              "      <td>DKI2</td>\n",
              "    </tr>\n",
              "  </tbody>\n",
              "</table>\n",
              "</div>\n",
              "      <button class=\"colab-df-convert\" onclick=\"convertToInteractive('df-7710e9e7-838f-493f-975b-d17348b63b7a')\"\n",
              "              title=\"Convert this dataframe to an interactive table.\"\n",
              "              style=\"display:none;\">\n",
              "        \n",
              "  <svg xmlns=\"http://www.w3.org/2000/svg\" height=\"24px\"viewBox=\"0 0 24 24\"\n",
              "       width=\"24px\">\n",
              "    <path d=\"M0 0h24v24H0V0z\" fill=\"none\"/>\n",
              "    <path d=\"M18.56 5.44l.94 2.06.94-2.06 2.06-.94-2.06-.94-.94-2.06-.94 2.06-2.06.94zm-11 1L8.5 8.5l.94-2.06 2.06-.94-2.06-.94L8.5 2.5l-.94 2.06-2.06.94zm10 10l.94 2.06.94-2.06 2.06-.94-2.06-.94-.94-2.06-.94 2.06-2.06.94z\"/><path d=\"M17.41 7.96l-1.37-1.37c-.4-.4-.92-.59-1.43-.59-.52 0-1.04.2-1.43.59L10.3 9.45l-7.72 7.72c-.78.78-.78 2.05 0 2.83L4 21.41c.39.39.9.59 1.41.59.51 0 1.02-.2 1.41-.59l7.78-7.78 2.81-2.81c.8-.78.8-2.07 0-2.86zM5.41 20L4 18.59l7.72-7.72 1.47 1.35L5.41 20z\"/>\n",
              "  </svg>\n",
              "      </button>\n",
              "      \n",
              "  <style>\n",
              "    .colab-df-container {\n",
              "      display:flex;\n",
              "      flex-wrap:wrap;\n",
              "      gap: 12px;\n",
              "    }\n",
              "\n",
              "    .colab-df-convert {\n",
              "      background-color: #E8F0FE;\n",
              "      border: none;\n",
              "      border-radius: 50%;\n",
              "      cursor: pointer;\n",
              "      display: none;\n",
              "      fill: #1967D2;\n",
              "      height: 32px;\n",
              "      padding: 0 0 0 0;\n",
              "      width: 32px;\n",
              "    }\n",
              "\n",
              "    .colab-df-convert:hover {\n",
              "      background-color: #E2EBFA;\n",
              "      box-shadow: 0px 1px 2px rgba(60, 64, 67, 0.3), 0px 1px 3px 1px rgba(60, 64, 67, 0.15);\n",
              "      fill: #174EA6;\n",
              "    }\n",
              "\n",
              "    [theme=dark] .colab-df-convert {\n",
              "      background-color: #3B4455;\n",
              "      fill: #D2E3FC;\n",
              "    }\n",
              "\n",
              "    [theme=dark] .colab-df-convert:hover {\n",
              "      background-color: #434B5C;\n",
              "      box-shadow: 0px 1px 3px 1px rgba(0, 0, 0, 0.15);\n",
              "      filter: drop-shadow(0px 1px 2px rgba(0, 0, 0, 0.3));\n",
              "      fill: #FFFFFF;\n",
              "    }\n",
              "  </style>\n",
              "\n",
              "      <script>\n",
              "        const buttonEl =\n",
              "          document.querySelector('#df-7710e9e7-838f-493f-975b-d17348b63b7a button.colab-df-convert');\n",
              "        buttonEl.style.display =\n",
              "          google.colab.kernel.accessAllowed ? 'block' : 'none';\n",
              "\n",
              "        async function convertToInteractive(key) {\n",
              "          const element = document.querySelector('#df-7710e9e7-838f-493f-975b-d17348b63b7a');\n",
              "          const dataTable =\n",
              "            await google.colab.kernel.invokeFunction('convertToInteractive',\n",
              "                                                     [key], {});\n",
              "          if (!dataTable) return;\n",
              "\n",
              "          const docLinkHtml = 'Like what you see? Visit the ' +\n",
              "            '<a target=\"_blank\" href=https://colab.research.google.com/notebooks/data_table.ipynb>data table notebook</a>'\n",
              "            + ' to learn more about interactive tables.';\n",
              "          element.innerHTML = '';\n",
              "          dataTable['output_type'] = 'display_data';\n",
              "          await google.colab.output.renderOutput(dataTable, element);\n",
              "          const docLink = document.createElement('div');\n",
              "          docLink.innerHTML = docLinkHtml;\n",
              "          element.appendChild(docLink);\n",
              "        }\n",
              "      </script>\n",
              "    </div>\n",
              "  </div>\n",
              "  "
            ]
          },
          "metadata": {},
          "execution_count": 23
        }
      ]
    },
    {
      "cell_type": "code",
      "source": [
        "import matplotlib.pyplot as plt\n",
        "\n",
        "df.plot(kind='scatter', x='max', y='o3')\n",
        "\n",
        "plt.title('lingkungan hidup')\n",
        "plt.xlabel('max')\n",
        "plt.ylabel('indeks')\n",
        "plt.xlim(0,90)\n",
        "plt.ylim(0,90)\n",
        "plt.grid(True)\n",
        "plt.show()"
      ],
      "metadata": {
        "colab": {
          "base_uri": "https://localhost:8080/",
          "height": 295
        },
        "id": "pxnjmu-18eOt",
        "outputId": "f548471b-6f87-48c9-e30a-93b6c728268a"
      },
      "execution_count": 24,
      "outputs": [
        {
          "output_type": "display_data",
          "data": {
            "text/plain": [
              "<Figure size 432x288 with 1 Axes>"
            ],
            "image/png": "[encoded data removed]"
          },
          "metadata": {
            "needs_background": "light"
          }
        }
      ]
    },
    {
      "cell_type": "code",
      "source": [
        "import numpy as np\n",
        "x= np.array(df['max'])\n",
        "y= np.array(df['o3'])\n",
        "\n",
        "print(f'x : {x}')\n",
        "print(f'y : {y}')"
      ],
      "metadata": {
        "colab": {
          "base_uri": "https://localhost:8080/"
        },
        "id": "wrnPf8ag9jeJ",
        "outputId": "ccb54f65-5586-450f-eb1e-d1f68f2238f8"
      },
      "execution_count": 25,
      "outputs": [
        {
          "output_type": "stream",
          "name": "stdout",
          "text": [
            "x : [49 50 50 95 77 77 73 59 51 63 51 52 53 52 31 81 48 84 40 43 31 52 53 52\n",
            " 56]\n",
            "y : [43 43 50 95 77 77 73 59 47 50 45 50 53 52 31 81 48 84 40 43 31 50 53 52\n",
            " 56]\n"
          ]
        }
      ]
    },
    {
      "cell_type": "code",
      "source": [
        "x = x.reshape(-1, 1)\n",
        "x.shape"
      ],
      "metadata": {
        "colab": {
          "base_uri": "https://localhost:8080/"
        },
        "id": "R0P6q9tQ-LLZ",
        "outputId": "4d4090c0-30ff-4df5-fce8-16307f993cc5"
      },
      "execution_count": 26,
      "outputs": [
        {
          "output_type": "execute_result",
          "data": {
            "text/plain": [
              "(25, 1)"
            ]
          },
          "metadata": {},
          "execution_count": 26
        }
      ]
    },
    {
      "cell_type": "code",
      "source": [
        "x"
      ],
      "metadata": {
        "colab": {
          "base_uri": "https://localhost:8080/"
        },
        "id": "sex9Q6DW-NOJ",
        "outputId": "95e925cb-f41b-42d5-9708-33ee07f4f59e"
      },
      "execution_count": 27,
      "outputs": [
        {
          "output_type": "execute_result",
          "data": {
            "text/plain": [
              "array([[49],\n",
              "       [50],\n",
              "       [50],\n",
              "       [95],\n",
              "       [77],\n",
              "       [77],\n",
              "       [73],\n",
              "       [59],\n",
              "       [51],\n",
              "       [63],\n",
              "       [51],\n",
              "       [52],\n",
              "       [53],\n",
              "       [52],\n",
              "       [31],\n",
              "       [81],\n",
              "       [48],\n",
              "       [84],\n",
              "       [40],\n",
              "       [43],\n",
              "       [31],\n",
              "       [52],\n",
              "       [53],\n",
              "       [52],\n",
              "       [56]])"
            ]
          },
          "metadata": {},
          "execution_count": 27
        }
      ]
    },
    {
      "cell_type": "code",
      "source": [
        "from sklearn.linear_model import LinearRegression\n",
        "\n",
        "model = LinearRegression()\n",
        "model.fit(x,y)"
      ],
      "metadata": {
        "colab": {
          "base_uri": "https://localhost:8080/"
        },
        "id": "k6uLtCdW-PER",
        "outputId": "4ffc71f8-118d-484e-c7cb-dc5b67ac3ae0"
      },
      "execution_count": 28,
      "outputs": [
        {
          "output_type": "execute_result",
          "data": {
            "text/plain": [
              "LinearRegression()"
            ]
          },
          "metadata": {},
          "execution_count": 28
        }
      ]
    },
    {
      "cell_type": "code",
      "source": [
        "x_vis = np.array([0,90]).reshape(-1,1)\n",
        "y_vis = model.predict(x_vis)"
      ],
      "metadata": {
        "id": "IeuaLKjd-R3j"
      },
      "execution_count": 29,
      "outputs": []
    },
    {
      "cell_type": "code",
      "source": [
        "plt.scatter(x,y)\n",
        "plt.plot(x_vis,y_vis, '-r')\n",
        "plt.title('ligkungan hidup')\n",
        "plt.xlabel('max')\n",
        "plt.ylabel('indeks')\n",
        "plt.xlim(0,90)\n",
        "plt.ylim(0,90)\n",
        "plt.grid(True)\n",
        "plt.show()"
      ],
      "metadata": {
        "colab": {
          "base_uri": "https://localhost:8080/",
          "height": 295
        },
        "id": "J5W_Udp5-kWG",
        "outputId": "23e3e291-a595-447d-e681-fb11a7d690b0"
      },
      "execution_count": 30,
      "outputs": [
        {
          "output_type": "display_data",
          "data": {
            "text/plain": [
              "<Figure size 432x288 with 1 Axes>"
            ],
            "image/png": "[encoded data removed]"
          },
          "metadata": {
            "needs_background": "light"
          }
        }
      ]
    },
    {
      "cell_type": "code",
      "source": [
        "df['pm10'].sum()"
      ],
      "metadata": {
        "id": "NJi3CDkU-yWo",
        "colab": {
          "base_uri": "https://localhost:8080/"
        },
        "outputId": "50d04626-1f99-4040-92bb-e6524f968787"
      },
      "execution_count": 31,
      "outputs": [
        {
          "output_type": "execute_result",
          "data": {
            "text/plain": [
              "973"
            ]
          },
          "metadata": {},
          "execution_count": 31
        }
      ]
    },
    {
      "cell_type": "code",
      "source": [
        "df['so2'].sum()"
      ],
      "metadata": {
        "colab": {
          "base_uri": "https://localhost:8080/"
        },
        "id": "L_eRPSAQdGwH",
        "outputId": "976e15a6-59b5-41f5-950b-6a9200469ff7"
      },
      "execution_count": 32,
      "outputs": [
        {
          "output_type": "execute_result",
          "data": {
            "text/plain": [
              "1138"
            ]
          },
          "metadata": {},
          "execution_count": 32
        }
      ]
    },
    {
      "cell_type": "code",
      "source": [
        "df['co'].sum()"
      ],
      "metadata": {
        "colab": {
          "base_uri": "https://localhost:8080/"
        },
        "id": "0YHlJiFrdMRi",
        "outputId": "015d79e1-f0b0-4616-ef18-bb16ef32aa09"
      },
      "execution_count": 33,
      "outputs": [
        {
          "output_type": "execute_result",
          "data": {
            "text/plain": [
              "742"
            ]
          },
          "metadata": {},
          "execution_count": 33
        }
      ]
    },
    {
      "cell_type": "code",
      "source": [
        "df['o3'].sum()"
      ],
      "metadata": {
        "colab": {
          "base_uri": "https://localhost:8080/"
        },
        "id": "8qiJkUDTdRJN",
        "outputId": "814eeab8-a477-49bc-c7ef-c69a5c39bedd"
      },
      "execution_count": 34,
      "outputs": [
        {
          "output_type": "execute_result",
          "data": {
            "text/plain": [
              "1383"
            ]
          },
          "metadata": {},
          "execution_count": 34
        }
      ]
    },
    {
      "cell_type": "code",
      "source": [
        "df['no2'].sum()"
      ],
      "metadata": {
        "colab": {
          "base_uri": "https://localhost:8080/"
        },
        "id": "Ymd1rCJtdX3y",
        "outputId": "96572839-afe9-45b3-ba67-872a44a47f82"
      },
      "execution_count": 35,
      "outputs": [
        {
          "output_type": "execute_result",
          "data": {
            "text/plain": [
              "322"
            ]
          },
          "metadata": {},
          "execution_count": 35
        }
      ]
    },
    {
      "cell_type": "code",
      "source": [
        "df['max'].sum()"
      ],
      "metadata": {
        "colab": {
          "base_uri": "https://localhost:8080/"
        },
        "id": "IytxEBNwdeDU",
        "outputId": "742d9119-9ddb-4901-f01c-d4c0c2768f61"
      },
      "execution_count": 36,
      "outputs": [
        {
          "output_type": "execute_result",
          "data": {
            "text/plain": [
              "1423"
            ]
          },
          "metadata": {},
          "execution_count": 36
        }
      ]
    },
    {
      "cell_type": "code",
      "source": [],
      "metadata": {
        "id": "oIWk2CpndiZM"
      },
      "execution_count": 39,
      "outputs": []
    },
    {
      "cell_type": "code",
      "source": [
        "import matplotlib.pyplot as plt\n",
        "\n",
        "fig = plt.figure()\n",
        "ax = fig.add_axes([0,0,1,1])\n",
        "usai = df['max']\n",
        "orla = df['o3']\n",
        "c = ['orange','yellow', 'blue']\n",
        "plt.title(\"lingkungan hidup\")\n",
        "ax.bar(usai,orla, color=c)\n",
        "plt.show()\n",
        "print()\n",
        "import matplotlib.pyplot as plt\n",
        "print()\n",
        "import matplotlib.pyplot as plt\n",
        "\n",
        "fig = plt.figure()\n",
        "ax = fig.add_axes([0,0,1,1])\n",
        "ax.axis('equal')\n",
        "plt.title('pendidikan')\n",
        "jurusa=df[\"max\"]\n",
        "orll =df [\"o3\"]\n",
        "ax.pie(orll,labels=jurusa,autopct='%1.2f%%')\n",
        "\n",
        "plt.show()\n",
        "\n"
      ],
      "metadata": {
        "colab": {
          "base_uri": "https://localhost:8080/",
          "height": 707
        },
        "id": "dHQhblSueG64",
        "outputId": "a6c05055-4b6e-4dbc-9a68-c04074df90a4"
      },
      "execution_count": 52,
      "outputs": [
        {
          "output_type": "display_data",
          "data": {
            "text/plain": [
              "<Figure size 432x288 with 1 Axes>"
            ],
            "image/png": "[encoded data removed]"
          },
          "metadata": {
            "needs_background": "light"
          }
        },
        {
          "output_type": "stream",
          "name": "stdout",
          "text": [
            "\n",
            "\n"
          ]
        },
        {
          "output_type": "display_data",
          "data": {
            "text/plain": [
              "<Figure size 432x288 with 1 Axes>"
            ],
            "image/png": "[encoded data removed]"
          },
          "metadata": {}
        }
      ]
    },
    {
      "cell_type": "code",
      "source": [
        "print(f'interceft : {model.intercept_}')\n",
        "print(f'slope : {model.coef_}')"
      ],
      "metadata": {
        "colab": {
          "base_uri": "https://localhost:8080/"
        },
        "id": "PVYrGHN0f525",
        "outputId": "7aff6d0d-61f8-48c9-c017-cc101a85f7e4"
      },
      "execution_count": 42,
      "outputs": [
        {
          "output_type": "stream",
          "name": "stdout",
          "text": [
            "interceft : -2.4895723216266674\n",
            "slope : [1.01562847]\n"
          ]
        }
      ]
    },
    {
      "cell_type": "code",
      "source": [
        "Rombeng = np.array([13,17,27,32,51]).reshape(-1,1)\n",
        "Rombeng"
      ],
      "metadata": {
        "colab": {
          "base_uri": "https://localhost:8080/"
        },
        "id": "qo5QAZrxgNV2",
        "outputId": "09f0ccc4-44f8-4669-bc82-cc8eb2ddcc02"
      },
      "execution_count": 43,
      "outputs": [
        {
          "output_type": "execute_result",
          "data": {
            "text/plain": [
              "array([[13],\n",
              "       [17],\n",
              "       [27],\n",
              "       [32],\n",
              "       [51]])"
            ]
          },
          "metadata": {},
          "execution_count": 43
        }
      ]
    },
    {
      "cell_type": "code",
      "source": [
        "prediksi_indeks = model.predict(Rombeng)\n",
        "prediksi_indeks"
      ],
      "metadata": {
        "colab": {
          "base_uri": "https://localhost:8080/"
        },
        "id": "O_QvHDqSgPz8",
        "outputId": "e2d0b989-860d-4d12-9375-e7660e3fa448"
      },
      "execution_count": 44,
      "outputs": [
        {
          "output_type": "execute_result",
          "data": {
            "text/plain": [
              "array([10.71359774, 14.77611161, 24.93239628, 30.01053861, 49.30747948])"
            ]
          },
          "metadata": {},
          "execution_count": 44
        }
      ]
    },
    {
      "cell_type": "code",
      "source": [
        "for penduduk, index in zip(Rombeng, prediksi_indeks):\n",
        "  print(f'Rombeng : {penduduk} prediksi : {index}')"
      ],
      "metadata": {
        "colab": {
          "base_uri": "https://localhost:8080/"
        },
        "id": "BXmyXOHAgS0o",
        "outputId": "dc7aeb78-6380-491c-c86f-1b8b05d075fb"
      },
      "execution_count": 45,
      "outputs": [
        {
          "output_type": "stream",
          "name": "stdout",
          "text": [
            "Rombeng : [13] prediksi : 10.713597744802474\n",
            "Rombeng : [17] prediksi : 14.776111611396054\n",
            "Rombeng : [27] prediksi : 24.93239627788001\n",
            "Rombeng : [32] prediksi : 30.010538611121987\n",
            "Rombeng : [51] prediksi : 49.307479477441504\n"
          ]
        }
      ]
    },
    {
      "cell_type": "code",
      "source": [],
      "metadata": {
        "id": "uhqm8l4kgV9m"
      },
      "execution_count": null,
      "outputs": []
    }
  ]
}